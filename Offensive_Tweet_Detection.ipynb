{
 "cells": [
  {
   "cell_type": "markdown",
   "metadata": {
    "id": "gaXaXHOM3vzu"
   },
   "source": [
    "# Importing Libraries"
   ]
  },
  {
   "cell_type": "code",
   "execution_count": 1,
   "metadata": {
    "scrolled": true
   },
   "outputs": [
    {
     "name": "stdout",
     "output_type": "stream",
     "text": [
      "Requirement already satisfied: sklearn in /usr/local/lib/python3.6/dist-packages (0.0)\n",
      "Requirement already satisfied: scikit-learn in /usr/local/lib/python3.6/dist-packages (from sklearn) (0.24.2)\n",
      "Requirement already satisfied: numpy>=1.13.3 in /usr/local/lib/python3.6/dist-packages (from scikit-learn->sklearn) (1.19.5)\n",
      "Requirement already satisfied: joblib>=0.11 in /usr/local/lib/python3.6/dist-packages (from scikit-learn->sklearn) (1.0.1)\n",
      "Requirement already satisfied: scipy>=0.19.1 in /usr/local/lib/python3.6/dist-packages (from scikit-learn->sklearn) (1.5.4)\n",
      "Requirement already satisfied: threadpoolctl>=2.0.0 in /usr/local/lib/python3.6/dist-packages (from scikit-learn->sklearn) (3.0.0)\n",
      "\u001b[33mWARNING: You are using pip version 20.2.4; however, version 21.3.1 is available.\n",
      "You should consider upgrading via the '/usr/bin/python3 -m pip install --upgrade pip' command.\u001b[0m\n"
     ]
    }
   ],
   "source": [
    "!pip install sklearn"
   ]
  },
  {
   "cell_type": "code",
   "execution_count": 2,
   "metadata": {},
   "outputs": [],
   "source": [
    "import tensorflow_federated"
   ]
  },
  {
   "cell_type": "code",
   "execution_count": 3,
   "metadata": {
    "id": "qx6xGg5nQt_O"
   },
   "outputs": [],
   "source": [
    "import pandas as pd\n",
    "import numpy as np\n",
    "import tensorflow as tf\n",
    "from tqdm import tqdm\n",
    "import numpy as np\n",
    "from tensorflow import keras\n",
    "from tensorflow.keras import layers\n",
    "from tensorflow.keras.layers import Dense\n",
    "from tensorflow.keras.models import Model\n",
    "from tensorflow.keras.optimizers import Adam\n",
    "from sklearn.preprocessing import OneHotEncoder\n",
    "from sklearn.model_selection import train_test_split\n",
    "import sklearn.metrics as metrics"
   ]
  },
  {
   "cell_type": "code",
   "execution_count": 4,
   "metadata": {
    "colab": {
     "base_uri": "https://localhost:8080/"
    },
    "id": "tfK0M8FNacGi",
    "outputId": "8b91498c-ccd7-4309-90e1-68fde69a0b99"
   },
   "outputs": [
    {
     "name": "stdout",
     "output_type": "stream",
     "text": [
      "Requirement already satisfied: tensorflow_federated in /usr/local/lib/python3.6/dist-packages (0.19.0)\n",
      "Requirement already satisfied: retrying~=1.3.3 in /usr/local/lib/python3.6/dist-packages (from tensorflow_federated) (1.3.3)\n",
      "Requirement already satisfied: attrs~=19.3.0 in /usr/local/lib/python3.6/dist-packages (from tensorflow_federated) (19.3.0)\n",
      "Requirement already satisfied: tensorflow-privacy~=0.5.0 in /usr/local/lib/python3.6/dist-packages (from tensorflow_federated) (0.5.2)\n",
      "Requirement already satisfied: tqdm~=4.28.1 in /usr/local/lib/python3.6/dist-packages (from tensorflow_federated) (4.28.1)\n",
      "Requirement already satisfied: tensorflow~=2.5.0 in /usr/local/lib/python3.6/dist-packages (from tensorflow_federated) (2.5.0)\n",
      "Requirement already satisfied: grpcio~=1.34.0 in /usr/local/lib/python3.6/dist-packages (from tensorflow_federated) (1.34.1)\n",
      "Requirement already satisfied: cachetools~=3.1.1 in /usr/local/lib/python3.6/dist-packages (from tensorflow_federated) (3.1.1)\n",
      "Requirement already satisfied: jax~=0.2.8 in /usr/local/lib/python3.6/dist-packages (from tensorflow_federated) (0.2.16)\n",
      "Requirement already satisfied: absl-py~=0.10 in /usr/local/lib/python3.6/dist-packages (from tensorflow_federated) (0.12.0)\n",
      "Requirement already satisfied: jaxlib~=0.1.55 in /usr/local/lib/python3.6/dist-packages (from tensorflow_federated) (0.1.68)\n",
      "Requirement already satisfied: portpicker~=1.3.1 in /usr/local/lib/python3.6/dist-packages (from tensorflow_federated) (1.3.9)\n",
      "Requirement already satisfied: semantic-version~=2.8.5 in /usr/local/lib/python3.6/dist-packages (from tensorflow_federated) (2.8.5)\n",
      "Requirement already satisfied: tensorflow-model-optimization~=0.5.0 in /usr/local/lib/python3.6/dist-packages (from tensorflow_federated) (0.5.0)\n",
      "Requirement already satisfied: numpy~=1.19.2 in /usr/local/lib/python3.6/dist-packages (from tensorflow_federated) (1.19.5)\n",
      "Requirement already satisfied: dm-tree~=0.1.1 in /usr/local/lib/python3.6/dist-packages (from tensorflow_federated) (0.1.6)\n",
      "Requirement already satisfied: six>=1.7.0 in /usr/local/lib/python3.6/dist-packages (from retrying~=1.3.3->tensorflow_federated) (1.15.0)\n",
      "Requirement already satisfied: scipy>=0.17 in /usr/local/lib/python3.6/dist-packages (from tensorflow-privacy~=0.5.0->tensorflow_federated) (1.5.4)\n",
      "Requirement already satisfied: mpmath in /usr/local/lib/python3.6/dist-packages (from tensorflow-privacy~=0.5.0->tensorflow_federated) (1.2.1)\n",
      "Requirement already satisfied: tensorflow-estimator>=2.3.0 in /usr/local/lib/python3.6/dist-packages (from tensorflow-privacy~=0.5.0->tensorflow_federated) (2.5.0rc0)\n",
      "Requirement already satisfied: flatbuffers~=1.12.0 in /usr/local/lib/python3.6/dist-packages (from tensorflow~=2.5.0->tensorflow_federated) (1.12)\n",
      "Requirement already satisfied: google-pasta~=0.2 in /usr/local/lib/python3.6/dist-packages (from tensorflow~=2.5.0->tensorflow_federated) (0.2.0)\n",
      "Requirement already satisfied: keras-preprocessing~=1.1.2 in /usr/local/lib/python3.6/dist-packages (from tensorflow~=2.5.0->tensorflow_federated) (1.1.2)\n",
      "Requirement already satisfied: protobuf>=3.9.2 in /usr/local/lib/python3.6/dist-packages (from tensorflow~=2.5.0->tensorflow_federated) (3.17.0)\n",
      "Requirement already satisfied: astunparse~=1.6.3 in /usr/local/lib/python3.6/dist-packages (from tensorflow~=2.5.0->tensorflow_federated) (1.6.3)\n",
      "Requirement already satisfied: termcolor~=1.1.0 in /usr/local/lib/python3.6/dist-packages (from tensorflow~=2.5.0->tensorflow_federated) (1.1.0)\n",
      "Requirement already satisfied: opt-einsum~=3.3.0 in /usr/local/lib/python3.6/dist-packages (from tensorflow~=2.5.0->tensorflow_federated) (3.3.0)\n",
      "Requirement already satisfied: h5py~=3.1.0 in /usr/local/lib/python3.6/dist-packages (from tensorflow~=2.5.0->tensorflow_federated) (3.1.0)\n",
      "Requirement already satisfied: wheel~=0.35 in /usr/local/lib/python3.6/dist-packages (from tensorflow~=2.5.0->tensorflow_federated) (0.36.2)\n",
      "Requirement already satisfied: gast==0.4.0 in /usr/local/lib/python3.6/dist-packages (from tensorflow~=2.5.0->tensorflow_federated) (0.4.0)\n",
      "Requirement already satisfied: tensorboard~=2.5 in /usr/local/lib/python3.6/dist-packages (from tensorflow~=2.5.0->tensorflow_federated) (2.5.0)\n",
      "Requirement already satisfied: wrapt~=1.12.1 in /usr/local/lib/python3.6/dist-packages (from tensorflow~=2.5.0->tensorflow_federated) (1.12.1)\n",
      "Requirement already satisfied: typing-extensions~=3.7.4 in /usr/local/lib/python3.6/dist-packages (from tensorflow~=2.5.0->tensorflow_federated) (3.7.4.3)\n",
      "Requirement already satisfied: keras-nightly~=2.5.0.dev in /usr/local/lib/python3.6/dist-packages (from tensorflow~=2.5.0->tensorflow_federated) (2.5.0.dev2021032900)\n",
      "Requirement already satisfied: cached-property; python_version < \"3.8\" in /usr/local/lib/python3.6/dist-packages (from h5py~=3.1.0->tensorflow~=2.5.0->tensorflow_federated) (1.5.2)\n",
      "Requirement already satisfied: markdown>=2.6.8 in /usr/local/lib/python3.6/dist-packages (from tensorboard~=2.5->tensorflow~=2.5.0->tensorflow_federated) (3.3.4)\n",
      "Requirement already satisfied: tensorboard-plugin-wit>=1.6.0 in /usr/local/lib/python3.6/dist-packages (from tensorboard~=2.5->tensorflow~=2.5.0->tensorflow_federated) (1.8.0)\n",
      "Requirement already satisfied: werkzeug>=0.11.15 in /usr/local/lib/python3.6/dist-packages (from tensorboard~=2.5->tensorflow~=2.5.0->tensorflow_federated) (2.0.0)\n",
      "Requirement already satisfied: tensorboard-data-server<0.7.0,>=0.6.0 in /usr/local/lib/python3.6/dist-packages (from tensorboard~=2.5->tensorflow~=2.5.0->tensorflow_federated) (0.6.1)\n",
      "Requirement already satisfied: google-auth<2,>=1.6.3 in /usr/local/lib/python3.6/dist-packages (from tensorboard~=2.5->tensorflow~=2.5.0->tensorflow_federated) (1.30.0)\n",
      "Requirement already satisfied: requests<3,>=2.21.0 in /usr/local/lib/python3.6/dist-packages (from tensorboard~=2.5->tensorflow~=2.5.0->tensorflow_federated) (2.25.1)\n",
      "Requirement already satisfied: google-auth-oauthlib<0.5,>=0.4.1 in /usr/local/lib/python3.6/dist-packages (from tensorboard~=2.5->tensorflow~=2.5.0->tensorflow_federated) (0.4.4)\n",
      "Requirement already satisfied: setuptools>=41.0.0 in /usr/local/lib/python3.6/dist-packages (from tensorboard~=2.5->tensorflow~=2.5.0->tensorflow_federated) (56.2.0)\n",
      "Requirement already satisfied: importlib-metadata; python_version < \"3.8\" in /usr/local/lib/python3.6/dist-packages (from markdown>=2.6.8->tensorboard~=2.5->tensorflow~=2.5.0->tensorflow_federated) (4.0.1)\n",
      "Requirement already satisfied: dataclasses; python_version < \"3.7\" in /usr/local/lib/python3.6/dist-packages (from werkzeug>=0.11.15->tensorboard~=2.5->tensorflow~=2.5.0->tensorflow_federated) (0.8)\n",
      "Requirement already satisfied: pyasn1-modules>=0.2.1 in /usr/local/lib/python3.6/dist-packages (from google-auth<2,>=1.6.3->tensorboard~=2.5->tensorflow~=2.5.0->tensorflow_federated) (0.2.8)\n",
      "Requirement already satisfied: rsa<5,>=3.1.4; python_version >= \"3.6\" in /usr/local/lib/python3.6/dist-packages (from google-auth<2,>=1.6.3->tensorboard~=2.5->tensorflow~=2.5.0->tensorflow_federated) (4.7.2)\n",
      "Requirement already satisfied: urllib3<1.27,>=1.21.1 in /usr/local/lib/python3.6/dist-packages (from requests<3,>=2.21.0->tensorboard~=2.5->tensorflow~=2.5.0->tensorflow_federated) (1.26.4)\n",
      "Requirement already satisfied: chardet<5,>=3.0.2 in /usr/local/lib/python3.6/dist-packages (from requests<3,>=2.21.0->tensorboard~=2.5->tensorflow~=2.5.0->tensorflow_federated) (4.0.0)\n",
      "Requirement already satisfied: idna<3,>=2.5 in /usr/lib/python3/dist-packages (from requests<3,>=2.21.0->tensorboard~=2.5->tensorflow~=2.5.0->tensorflow_federated) (2.6)\n",
      "Requirement already satisfied: certifi>=2017.4.17 in /usr/local/lib/python3.6/dist-packages (from requests<3,>=2.21.0->tensorboard~=2.5->tensorflow~=2.5.0->tensorflow_federated) (2020.12.5)\n",
      "Requirement already satisfied: requests-oauthlib>=0.7.0 in /usr/local/lib/python3.6/dist-packages (from google-auth-oauthlib<0.5,>=0.4.1->tensorboard~=2.5->tensorflow~=2.5.0->tensorflow_federated) (1.3.0)\n",
      "Requirement already satisfied: zipp>=0.5 in /usr/local/lib/python3.6/dist-packages (from importlib-metadata; python_version < \"3.8\"->markdown>=2.6.8->tensorboard~=2.5->tensorflow~=2.5.0->tensorflow_federated) (3.4.1)\n",
      "Requirement already satisfied: pyasn1<0.5.0,>=0.4.6 in /usr/local/lib/python3.6/dist-packages (from pyasn1-modules>=0.2.1->google-auth<2,>=1.6.3->tensorboard~=2.5->tensorflow~=2.5.0->tensorflow_federated) (0.4.8)\n",
      "Requirement already satisfied: oauthlib>=3.0.0 in /usr/local/lib/python3.6/dist-packages (from requests-oauthlib>=0.7.0->google-auth-oauthlib<0.5,>=0.4.1->tensorboard~=2.5->tensorflow~=2.5.0->tensorflow_federated) (3.1.0)\n",
      "\u001b[33mWARNING: You are using pip version 20.2.4; however, version 21.3.1 is available.\r\n",
      "You should consider upgrading via the '/usr/bin/python3 -m pip install --upgrade pip' command.\u001b[0m\r\n"
     ]
    }
   ],
   "source": [
    "!pip install tensorflow_federated"
   ]
  },
  {
   "cell_type": "code",
   "execution_count": 5,
   "metadata": {
    "colab": {
     "base_uri": "https://localhost:8080/"
    },
    "id": "1Hp3iX7WRxN_",
    "outputId": "aa298a02-327d-4448-af0c-25ad0a2f306a"
   },
   "outputs": [
    {
     "name": "stdout",
     "output_type": "stream",
     "text": [
      "Requirement already satisfied: transformers in /usr/local/lib/python3.6/dist-packages (4.8.2)\n",
      "Requirement already satisfied: sacremoses in /usr/local/lib/python3.6/dist-packages (from transformers) (0.0.45)\n",
      "Requirement already satisfied: numpy>=1.17 in /usr/local/lib/python3.6/dist-packages (from transformers) (1.19.5)\n",
      "Requirement already satisfied: regex!=2019.12.17 in /usr/local/lib/python3.6/dist-packages (from transformers) (2021.7.6)\n",
      "Requirement already satisfied: tokenizers<0.11,>=0.10.1 in /usr/local/lib/python3.6/dist-packages (from transformers) (0.10.3)\n",
      "Requirement already satisfied: tqdm>=4.27 in /usr/local/lib/python3.6/dist-packages (from transformers) (4.28.1)\n",
      "Requirement already satisfied: dataclasses; python_version < \"3.7\" in /usr/local/lib/python3.6/dist-packages (from transformers) (0.8)\n",
      "Requirement already satisfied: importlib-metadata; python_version < \"3.8\" in /usr/local/lib/python3.6/dist-packages (from transformers) (4.0.1)\n",
      "Requirement already satisfied: filelock in /usr/local/lib/python3.6/dist-packages (from transformers) (3.0.12)\n",
      "Requirement already satisfied: packaging in /usr/local/lib/python3.6/dist-packages (from transformers) (20.9)\n",
      "Requirement already satisfied: requests in /usr/local/lib/python3.6/dist-packages (from transformers) (2.25.1)\n",
      "Requirement already satisfied: huggingface-hub==0.0.12 in /usr/local/lib/python3.6/dist-packages (from transformers) (0.0.12)\n",
      "Requirement already satisfied: pyyaml in /usr/local/lib/python3.6/dist-packages (from transformers) (5.4.1)\n",
      "Requirement already satisfied: six in /usr/local/lib/python3.6/dist-packages (from sacremoses->transformers) (1.15.0)\n",
      "Requirement already satisfied: joblib in /usr/local/lib/python3.6/dist-packages (from sacremoses->transformers) (1.0.1)\n",
      "Requirement already satisfied: click in /usr/local/lib/python3.6/dist-packages (from sacremoses->transformers) (8.0.1)\n",
      "Requirement already satisfied: typing-extensions>=3.6.4; python_version < \"3.8\" in /usr/local/lib/python3.6/dist-packages (from importlib-metadata; python_version < \"3.8\"->transformers) (3.7.4.3)\n",
      "Requirement already satisfied: zipp>=0.5 in /usr/local/lib/python3.6/dist-packages (from importlib-metadata; python_version < \"3.8\"->transformers) (3.4.1)\n",
      "Requirement already satisfied: pyparsing>=2.0.2 in /usr/local/lib/python3.6/dist-packages (from packaging->transformers) (2.4.7)\n",
      "Requirement already satisfied: idna<3,>=2.5 in /usr/lib/python3/dist-packages (from requests->transformers) (2.6)\n",
      "Requirement already satisfied: certifi>=2017.4.17 in /usr/local/lib/python3.6/dist-packages (from requests->transformers) (2020.12.5)\n",
      "Requirement already satisfied: chardet<5,>=3.0.2 in /usr/local/lib/python3.6/dist-packages (from requests->transformers) (4.0.0)\n",
      "Requirement already satisfied: urllib3<1.27,>=1.21.1 in /usr/local/lib/python3.6/dist-packages (from requests->transformers) (1.26.4)\n",
      "\u001b[33mWARNING: You are using pip version 20.2.4; however, version 21.3.1 is available.\n",
      "You should consider upgrading via the '/usr/bin/python3 -m pip install --upgrade pip' command.\u001b[0m\n"
     ]
    }
   ],
   "source": [
    "!pip install transformers"
   ]
  },
  {
   "cell_type": "code",
   "execution_count": 6,
   "metadata": {
    "id": "SApcBgwMLgZt"
   },
   "outputs": [],
   "source": [
    "import tensorflow_federated as tff"
   ]
  },
  {
   "cell_type": "code",
   "execution_count": 7,
   "metadata": {},
   "outputs": [],
   "source": [
    "import tensorflow as tf"
   ]
  },
  {
   "cell_type": "code",
   "execution_count": 8,
   "metadata": {},
   "outputs": [],
   "source": [
    "import tensorflow as tf\n",
    "import numpy as np\n",
    "import math\n",
    "import pickle"
   ]
  },
  {
   "cell_type": "code",
   "execution_count": 9,
   "metadata": {
    "id": "AyGaybwE9TCi"
   },
   "outputs": [],
   "source": [
    "def create_model():\n",
    "    # TODO: Add a tensorflow seed here and check if the performance improves.\n",
    "    # This would mean that each model gets the same initialized parameters.\n",
    "    # Which could be important to convergence.\n",
    "    input = keras.Input(shape=(max_len,embed_dim))\n",
    "    layer1 = layers.Bidirectional(layers.LSTM(64,return_sequences=True))(input)\n",
    "    layer5 = layers.Dropout(0.5)(layer1)\n",
    "    layer2 = layers.Bidirectional(layers.LSTM(32))(layer5)\n",
    "    layer3 = layers.Dropout(0.5)(layer2)\n",
    "\n",
    "    # 1 class in the model after merging classes\n",
    "    output = layers.Dense(1, activation=\"sigmoid\")(layer3)\n",
    "    model = Model(inputs=input,outputs=output)\n",
    "    return model"
   ]
  },
  {
   "cell_type": "markdown",
   "metadata": {},
   "source": [
    "# Training on the Entire Model- Vanilla"
   ]
  },
  {
   "cell_type": "code",
   "execution_count": 10,
   "metadata": {},
   "outputs": [],
   "source": [
    "#infile = open('dhot.pickle','rb')\n",
    "#df_dhot = pickle.load(infile)\n",
    "#infile.close()\n",
    "\n",
    "#dataset1 = []\n",
    "#df_dhot['Final'] = None\n",
    "#print(df_dhot.shape)\n",
    "#for i in range(len(df_dhot)):\n",
    " #   dataset1.append(df_dhot['Embeddings'][i][0]) \n",
    "  #  if i == 0:\n",
    "        #print(i, df_dhot['Embeddings'][i][0].device, df_dhot['Embeddings'][i][0].shape) # GC\n",
    "#df_dhot['Final'] = dataset1\n",
    "\n",
    "#idx = math.floor(df_dhot.shape[0]*0.8)\n",
    "#print(df_dhot.shape[0])\n",
    "#print(idx)\n",
    "\n",
    "#dhot_train_tf_x = df_dhot['Final'].to_list()[:idx]\n",
    "#dhot_train_tf_y = df_dhot['Label'].to_list()[:idx]\n",
    "\n",
    "#df_dhot=0"
   ]
  },
  {
   "cell_type": "code",
   "execution_count": 11,
   "metadata": {},
   "outputs": [],
   "source": [
    "#len(dhot_train_tf_y)"
   ]
  },
  {
   "cell_type": "code",
   "execution_count": 12,
   "metadata": {},
   "outputs": [],
   "source": [
    "#infile = open('df_hasoc.pickle','rb')\n",
    "#df_hasoc = pickle.load(infile)\n",
    "#infile.close()\n",
    "\n",
    "#dataset1 = []\n",
    "#df_hasoc['Final'] = None\n",
    "#for i in range(len(df_hasoc)):\n",
    "#    dataset1.append(df_hasoc['Embeddings'][i][0])\n",
    "#df_hasoc['Final'] = dataset1\n",
    "\n",
    "#idx = math.floor(df_hasoc.shape[0]*0.8)\n",
    "#print(df_hasoc.shape[0])\n",
    "#print(idx)\n",
    "\n",
    "#hasoc_train_tf_x = df_hasoc['Final'].to_list()[:idx]\n",
    "#hasoc_train_tf_y = df_hasoc['Label'].to_list()[:idx]\n",
    "\n",
    "#df_hasoc=0"
   ]
  },
  {
   "cell_type": "code",
   "execution_count": 13,
   "metadata": {},
   "outputs": [],
   "source": [
    "#infile = open('df_traceng_train.pickle','rb')\n",
    "#df_traceng = pickle.load(infile)\n",
    "#infile.close()\n",
    "\n",
    "#dataset1 = []\n",
    "#df_traceng['Final'] = None\n",
    "#for i in range(len(df_traceng)):\n",
    "#    dataset1.append(df_traceng['Embeddings'][i][0])\n",
    "#df_traceng['Final'] = dataset1\n",
    "\n",
    "#traceng20_train_tf_x = df_traceng['Final'].to_list()\n",
    "#traceng20_train_tf_y = df_traceng['Label'].to_list()\n",
    "\n",
    "#df_traceng = 0"
   ]
  },
  {
   "cell_type": "code",
   "execution_count": 14,
   "metadata": {},
   "outputs": [],
   "source": [
    "#infile = open('df_trachin_train.pickle','rb')\n",
    "#df_trachin = pickle.load(infile)\n",
    "#infile.close()\n",
    "\n",
    "#dataset1 = []\n",
    "#df_trachin['Final'] = None\n",
    "#for i in range(len(df_trachin)):\n",
    " # dataset1.append(df_trachin['Embeddings'][i][0])\n",
    "#df_trachin['Final'] = dataset1\n",
    "\n",
    "#trachin20_train_tf_x = df_trachin['Final'].to_list()\n",
    "#trachin20_train_tf_y = df_trachin['Label'].to_list()\n",
    "\n",
    "#y_pred = centralized_model.predict(trachin20_test_x)\n",
    "#fy_pred = centralized_model.predict(trachin20_test_x)\n",
    "#fdf_trachin = 0"
   ]
  },
  {
   "cell_type": "code",
   "execution_count": 15,
   "metadata": {},
   "outputs": [],
   "source": [
    "#infile = open('Trac-2019/english/df_trac_eng_2019.pickle','rb')\n",
    "#df_traceng19 = pickle.load(infile)\n",
    "#infile.close()\n",
    "\n",
    "#dataset1 = []\n",
    "#df_traceng19['Final'] = None\n",
    "#for i in range(len(df_traceng19)):\n",
    " # dataset1.append(df_traceng19['Embeddings'][i][0])\n",
    "#df_traceng19['Final'] = dataset1\n",
    "\n",
    "#idx = math.floor(df_traceng19.shape[0]*0.8)\n",
    "#print(df_traceng19.shape[0])\n",
    "#print(idx)\n",
    "\n",
    "#traceng19_train_tf_x = df_traceng19['Final'].to_list()[:idx]\n",
    "#traceng19_train_tf_y = df_traceng19['Label'].to_list()[:idx]\n",
    "\n",
    "#df_traceng19=0"
   ]
  },
  {
   "cell_type": "code",
   "execution_count": 16,
   "metadata": {},
   "outputs": [],
   "source": [
    "#infile = open('Trac-2019/hindi/df_trac_hin_2019.pickle','rb')\n",
    "#df_trachin19 = pickle.load(infile)\n",
    "#infile.close()\n",
    "\n",
    "#dataset1 = []\n",
    "#df_trachin19['Final'] = None\n",
    "#for i in range(len(df_trachin19)):\n",
    " # dataset1.append(df_trachin19['Embeddings'][i][0])\n",
    "#df_trachin19['Final'] = dataset1\n",
    "\n",
    "#idx = math.floor(df_trachin19.shape[0]*0.8)\n",
    "#print(df_trachin19.shape[0])\n",
    "#print(idx)\n",
    "\n",
    "#trachin19_train_tf_x = df_trachin19['Final'].to_list()[:idx]\n",
    "#trachin19_train_tf_y = df_trachin19['Label'].to_list()[:idx]\n",
    "\n",
    "#df_trachin19=0"
   ]
  },
  {
   "cell_type": "code",
   "execution_count": 17,
   "metadata": {},
   "outputs": [],
   "source": [
    "#x_train=[]\n",
    "\n",
    "#x_train = x_train + hasoc_train_tf_x\n",
    "#hasoc_train_tf_x=0\n",
    "#x_train = x_train + traceng20_train_tf_x\n",
    "#traceng20_train_tf_x=0\n",
    "#x_train = x_train + trachin20_train_tf_x\n",
    "#trachin20_train_tf_x=0\n",
    "#x_train = x_train + traceng19_train_tf_x\n",
    "#traceng19_train_tf_x=0\n",
    "#x_train = x_train + trachin19_train_tf_x\n",
    "#trachin19_train_tf_x=0\n",
    "#x_train = x_train + dhot_train_tf_x\n",
    "#dhot_train_tf_x=0"
   ]
  },
  {
   "cell_type": "code",
   "execution_count": 18,
   "metadata": {},
   "outputs": [],
   "source": [
    "#len(x_train)"
   ]
  },
  {
   "cell_type": "code",
   "execution_count": 19,
   "metadata": {},
   "outputs": [],
   "source": [
    "#y_train=[]\n",
    "\n",
    "#y_train = y_train + hasoc_train_tf_y\n",
    "#hasoc_train_tf_y=0\n",
    "#y_train = y_train + traceng20_train_tf_y\n",
    "#traceng20_train_tf_y=0\n",
    "#y_train = y_train + trachin20_train_tf_y\n",
    "#trachin20_train_tf_y=0\n",
    "#y_train = y_train + traceng19_train_tf_y\n",
    "#traceng19_train_tf_y=0\n",
    "#y_train = y_train + trachin19_train_tf_y\n",
    "#trachin19_train_tf_y=0\n",
    "#y_train = y_train + dhot_train_tf_y\n",
    "#dhot_train_tf_y=0"
   ]
  },
  {
   "cell_type": "code",
   "execution_count": 20,
   "metadata": {},
   "outputs": [],
   "source": [
    "#len(y_train)"
   ]
  },
  {
   "cell_type": "code",
   "execution_count": 21,
   "metadata": {},
   "outputs": [],
   "source": [
    "max_len = 256\n",
    "embed_dim = 768\n",
    "centralized_model = create_model()"
   ]
  },
  {
   "cell_type": "code",
   "execution_count": 22,
   "metadata": {},
   "outputs": [],
   "source": [
    "#x_train=np.array(x_train)\n",
    "#y_train=np.array(y_train)"
   ]
  },
  {
   "cell_type": "code",
   "execution_count": 23,
   "metadata": {},
   "outputs": [],
   "source": [
    "#centralized_model.compile(loss='binary_crossentropy', optimizer='adam',metrics='acc')"
   ]
  },
  {
   "cell_type": "code",
   "execution_count": 24,
   "metadata": {},
   "outputs": [],
   "source": [
    "#centralized_model.fit(x_train,y_train,epochs=10)"
   ]
  },
  {
   "cell_type": "markdown",
   "metadata": {
    "id": "OWljk854BZgE"
   },
   "source": [
    "# Federated Learning"
   ]
  },
  {
   "cell_type": "code",
   "execution_count": 25,
   "metadata": {},
   "outputs": [
    {
     "data": {
      "text/plain": [
       "[PhysicalDevice(name='/physical_device:GPU:0', device_type='GPU'),\n",
       " PhysicalDevice(name='/physical_device:GPU:1', device_type='GPU')]"
      ]
     },
     "execution_count": 25,
     "metadata": {},
     "output_type": "execute_result"
    }
   ],
   "source": [
    "tf.config.list_physical_devices('GPU')"
   ]
  },
  {
   "cell_type": "markdown",
   "metadata": {},
   "source": [
    "# DHOT - run this cell to load DHOT train data"
   ]
  },
  {
   "cell_type": "code",
   "execution_count": 26,
   "metadata": {},
   "outputs": [
    {
     "name": "stdout",
     "output_type": "stream",
     "text": [
      "(1603, 5)\n",
      "0 /job:localhost/replica:0/task:0/device:GPU:0 (256, 768)\n",
      "1603\n",
      "1282\n"
     ]
    }
   ],
   "source": [
    "infile = open('dhot.pickle','rb')\n",
    "df_dhot = pickle.load(infile)\n",
    "infile.close()\n",
    "\n",
    "dataset1 = []\n",
    "df_dhot['Final'] = None\n",
    "print(df_dhot.shape)\n",
    "for i in range(len(df_dhot)):\n",
    "    dataset1.append(df_dhot['Embeddings'][i][0]) \n",
    "    if i == 0:\n",
    "        print(i, df_dhot['Embeddings'][i][0].device, df_dhot['Embeddings'][i][0].shape) # GC\n",
    "df_dhot['Final'] = dataset1\n",
    "\n",
    "idx = math.floor(df_dhot.shape[0]*0.8)\n",
    "print(df_dhot.shape[0])\n",
    "print(idx)\n",
    "\n",
    "dhot_train_tf = tf.data.Dataset.from_tensor_slices((df_dhot['Final'].to_list()[:idx], df_dhot['Label'].to_list()[:idx]))\n",
    "\n",
    "df_dhot=0"
   ]
  },
  {
   "cell_type": "markdown",
   "metadata": {},
   "source": [
    "# HASOC - run this cell to load HASOC data"
   ]
  },
  {
   "cell_type": "code",
   "execution_count": 29,
   "metadata": {},
   "outputs": [
    {
     "name": "stdout",
     "output_type": "stream",
     "text": [
      "4665\n",
      "3732\n",
      "<class 'numpy.int64'>\n",
      "0       0\n",
      "1       1\n",
      "2       1\n",
      "3       0\n",
      "4       0\n",
      "       ..\n",
      "4660    0\n",
      "4661    1\n",
      "4662    0\n",
      "4663    1\n",
      "4664    1\n",
      "Name: Label, Length: 4665, dtype: int64\n"
     ]
    }
   ],
   "source": [
    "infile = open('df_hasoc.pickle','rb')\n",
    "df_hasoc = pickle.load(infile)\n",
    "infile.close()\n",
    "\n",
    "dataset1 = []\n",
    "df_hasoc['Final'] = None\n",
    "for i in range(len(df_hasoc)):\n",
    "    # 1 x 265 x 768\n",
    "    dataset1.append(df_hasoc['Embeddings'][i][0])\n",
    "df_hasoc['Final'] = dataset1\n",
    "\n",
    "idx = math.floor(df_hasoc.shape[0]*0.8)\n",
    "print(df_hasoc.shape[0])\n",
    "print(idx)\n",
    "\n",
    "hasoc_train_tf = tf.data.Dataset.from_tensor_slices((df_hasoc['Final'].to_list()[:idx], df_hasoc['Label'].to_list()[:idx]))\n",
    "\n",
    "print(type(df_hasoc['Label'][0]))\n",
    "print(df_hasoc['Label'])\n",
    "df_hasoc = 0"
   ]
  },
  {
   "cell_type": "code",
   "execution_count": 30,
   "metadata": {},
   "outputs": [],
   "source": [
    "#next(iter(hasoc_train_tf))"
   ]
  },
  {
   "cell_type": "markdown",
   "metadata": {},
   "source": [
    "# TRAC 20 Eng"
   ]
  },
  {
   "cell_type": "code",
   "execution_count": 31,
   "metadata": {},
   "outputs": [],
   "source": [
    "infile = open('df_traceng_train.pickle','rb')\n",
    "df_traceng = pickle.load(infile)\n",
    "infile.close()\n",
    "\n",
    "dataset1 = []\n",
    "df_traceng['Final'] = None\n",
    "for i in range(len(df_traceng)):\n",
    "    dataset1.append(df_traceng['Embeddings'][i][0])\n",
    "df_traceng['Final'] = dataset1\n",
    "#y_pred = centralized_model.predict(trachin20_test_x)\n",
    "\n",
    "traceng20_train_tf = tf.data.Dataset.from_tensor_slices((df_traceng['Final'].to_list(), df_traceng['Label'].to_list()))\n",
    "\n",
    "df_traceng = 0"
   ]
  },
  {
   "cell_type": "markdown",
   "metadata": {},
   "source": [
    "# TRAC 20 Hindi"
   ]
  },
  {
   "cell_type": "code",
   "execution_count": 32,
   "metadata": {},
   "outputs": [],
   "source": [
    "infile = open('df_trachin_train.pickle','rb')\n",
    "df_trachin = pickle.load(infile)\n",
    "infile.close()\n",
    "\n",
    "dataset1 = []\n",
    "df_trachin['Final'] = None\n",
    "for i in range(len(df_trachin)):\n",
    "  dataset1.append(df_trachin['Embeddings'][i][0])\n",
    "df_trachin['Final'] = dataset1\n",
    "\n",
    "trachin20_train_tf = tf.data.Dataset.from_tensor_slices((df_trachin['Final'].to_list(), df_trachin['Label'].to_list()))\n",
    "\n",
    "df_trachin = 0"
   ]
  },
  {
   "cell_type": "markdown",
   "metadata": {},
   "source": [
    "# TRAC 19 Eng"
   ]
  },
  {
   "cell_type": "code",
   "execution_count": 33,
   "metadata": {},
   "outputs": [
    {
     "name": "stdout",
     "output_type": "stream",
     "text": [
      "5000\n",
      "4000\n"
     ]
    }
   ],
   "source": [
    "infile = open('Trac-2019/english/df_trac_eng_2019.pickle','rb')\n",
    "df_traceng19 = pickle.load(infile)\n",
    "infile.close()\n",
    "\n",
    "dataset1 = []\n",
    "df_traceng19['Final'] = None\n",
    "for i in range(len(df_traceng19)):\n",
    "  dataset1.append(df_traceng19['Embeddings'][i][0])\n",
    "df_traceng19['Final'] = dataset1\n",
    "\n",
    "idx = math.floor(df_traceng19.shape[0]*0.8)\n",
    "print(df_traceng19.shape[0])\n",
    "print(idx)\n",
    "\n",
    "traceng19_train_tf = tf.data.Dataset.from_tensor_slices((df_traceng19['Final'].to_list()[:idx], df_traceng19['Label'].to_list()[:idx]))\n",
    "df_traceng19 = 0"
   ]
  },
  {
   "cell_type": "markdown",
   "metadata": {},
   "source": [
    "# TRAC 19 Hin"
   ]
  },
  {
   "cell_type": "code",
   "execution_count": 34,
   "metadata": {},
   "outputs": [
    {
     "name": "stdout",
     "output_type": "stream",
     "text": [
      "5000\n",
      "4000\n"
     ]
    }
   ],
   "source": [
    "infile = open('Trac-2019/hindi/df_trac_hin_2019.pickle','rb')\n",
    "df_trachin19 = pickle.load(infile)\n",
    "infile.close()\n",
    "\n",
    "dataset1 = []\n",
    "df_trachin19['Final'] = None\n",
    "for i in range(len(df_trachin19)):\n",
    "  dataset1.append(df_trachin19['Embeddings'][i][0])\n",
    "df_trachin19['Final'] = dataset1\n",
    "\n",
    "idx = math.floor(df_trachin19.shape[0]*0.8)\n",
    "print(df_trachin19.shape[0])\n",
    "print(idx)\n",
    "\n",
    "trachin19_train_tf = tf.data.Dataset.from_tensor_slices((df_trachin19['Final'].to_list()[:idx], df_trachin19['Label'].to_list()[:idx]))\n",
    "df_trachin19 = 0"
   ]
  },
  {
   "cell_type": "markdown",
   "metadata": {},
   "source": [
    "# IndoML"
   ]
  },
  {
   "cell_type": "code",
   "execution_count": 35,
   "metadata": {},
   "outputs": [
    {
     "name": "stdout",
     "output_type": "stream",
     "text": [
      "5000\n",
      "4000\n",
      "<class 'list'>\n"
     ]
    }
   ],
   "source": [
    "infile = open('indoML.pickle','rb')\n",
    "\n",
    "import pickle\n",
    "import math\n",
    "df_indoML = pickle.load(infile)\n",
    "infile.close()\n",
    "\n",
    "\n",
    "dataset1=[]\n",
    "for i in range(len(df_indoML)):\n",
    "    dataset1.append(df_indoML[i][0])\n",
    "    \n",
    "idx = math.floor(df_indoML.shape[0]*0.8)\n",
    "print(df_indoML.shape[0])\n",
    "print(idx)\n",
    "\n",
    "indoml_train_x = dataset1[:idx]\n",
    "df_indoML=0\n",
    "\n",
    "infile = open('indoML_labels.pickle','rb')\n",
    "\n",
    "import pickle\n",
    "df_indoML_labels = pickle.load(infile)\n",
    "infile.close()\n",
    "\n",
    "indoml_train_y = df_indoML_labels[:idx].to_list()\n",
    "\n",
    "for i in range(len(indoml_train_y)):\n",
    "    indoml_train_y[i] = int(indoml_train_y[i])\n",
    "    \n",
    "df_indoML_labels=0\n",
    "\n",
    "indoml_train_tf = tf.data.Dataset.from_tensor_slices((indoml_train_x, indoml_train_y))\n",
    "\n",
    "print(type(indoml_train_y))"
   ]
  },
  {
   "cell_type": "code",
   "execution_count": 37,
   "metadata": {},
   "outputs": [
    {
     "name": "stdout",
     "output_type": "stream",
     "text": [
      "<class 'int'>\n"
     ]
    }
   ],
   "source": [
    "print(type(indoml_train_y[0]))"
   ]
  },
  {
   "cell_type": "code",
   "execution_count": 38,
   "metadata": {},
   "outputs": [],
   "source": [
    "indoml_train_x=0\n",
    "indoml_train_y=0"
   ]
  },
  {
   "cell_type": "markdown",
   "metadata": {},
   "source": [
    "# Dataset Generation For Federated Model"
   ]
  },
  {
   "cell_type": "code",
   "execution_count": 39,
   "metadata": {},
   "outputs": [],
   "source": [
    "import collections\n",
    "BATCH_SIZE = 32\n",
    "\n",
    "# Function allows mapping each dataset to a map\n",
    "def g(dataset):\n",
    "    def batch_format_fn(x_val, y_val):\n",
    "        return collections.OrderedDict(\n",
    "            x = tf.reshape(x_val,[-1,max_len,768]),\n",
    "            y = tf.reshape(y_val,[-1,1])\n",
    "        )\n",
    "    return dataset.batch(BATCH_SIZE).map(batch_format_fn)"
   ]
  },
  {
   "cell_type": "code",
   "execution_count": 40,
   "metadata": {
    "id": "gFrAP9hMhUII"
   },
   "outputs": [],
   "source": [
    "import collections\n",
    "BATCH_SIZE = 32\n",
    "max_len=256\n",
    "def g(dataset):\n",
    "    def batch_format_fn(x_val, y_val):\n",
    "        return collections.OrderedDict(\n",
    "            x = tf.reshape(x_val,[-1,max_len,768]),\n",
    "            y = tf.reshape(y_val,[-1,1])\n",
    "        )\n",
    "    return dataset.batch(BATCH_SIZE).map(batch_format_fn)"
   ]
  },
  {
   "cell_type": "code",
   "execution_count": 41,
   "metadata": {},
   "outputs": [],
   "source": [
    "embed_dim=768\n",
    "max_len = 256"
   ]
  },
  {
   "cell_type": "code",
   "execution_count": 42,
   "metadata": {},
   "outputs": [],
   "source": [
    "results = []\n",
    "\n",
    "# Comment the datasets you do not want to include in the training clients\n",
    "\n",
    "#Hindi\n",
    "results.append(g(hasoc_train_tf))\n",
    "hasoc_train_tf=0\n",
    "\n",
    "# English\n",
    "results.append(g(traceng20_train_tf))\n",
    "traceng20_train_tf=0\n",
    "\n",
    "#Hindi\n",
    "results.append(g(trachin20_train_tf))\n",
    "trachin20_train_tf=0\n",
    "\n",
    "#English\n",
    "results.append(g(traceng19_train_tf))\n",
    "traceng19_train_tf=0\n",
    "\n",
    "#Hindi\n",
    "results.append(g(trachin19_train_tf))\n",
    "trachin19_train_tf=0\n",
    "\n",
    "#Hindi\n",
    "results.append(g(dhot_train_tf))\n",
    "dhot_train_tf=0\n",
    "\n",
    "# indoML\n",
    "results.append(g(indoml_train_tf))\n",
    "indoml_train_tf=0"
   ]
  },
  {
   "cell_type": "code",
   "execution_count": 43,
   "metadata": {},
   "outputs": [
    {
     "name": "stdout",
     "output_type": "stream",
     "text": [
      "Num GPUs Available:  2\n"
     ]
    }
   ],
   "source": [
    "import tensorflow as tf\n",
    "print(\"Num GPUs Available: \", len(tf.config.list_physical_devices('GPU')))"
   ]
  },
  {
   "cell_type": "code",
   "execution_count": 44,
   "metadata": {
    "id": "aZUum8yLOH9L"
   },
   "outputs": [],
   "source": [
    "MARK_FOR_BATCH = 0"
   ]
  },
  {
   "cell_type": "code",
   "execution_count": 45,
   "metadata": {
    "id": "A_BDW4d9Hpbj"
   },
   "outputs": [],
   "source": [
    "federated_learning = results\n",
    "federated_learning\n",
    "results=0"
   ]
  },
  {
   "cell_type": "code",
   "execution_count": 46,
   "metadata": {},
   "outputs": [],
   "source": [
    "model_lstm= create_model()"
   ]
  },
  {
   "cell_type": "code",
   "execution_count": 47,
   "metadata": {},
   "outputs": [
    {
     "data": {
      "text/plain": [
       "[<MapDataset shapes: OrderedDict([(x, (None, 256, 768)), (y, (None, 1))]), types: OrderedDict([(x, tf.float32), (y, tf.int32)])>,\n",
       " <MapDataset shapes: OrderedDict([(x, (None, 256, 768)), (y, (None, 1))]), types: OrderedDict([(x, tf.float32), (y, tf.int32)])>,\n",
       " <MapDataset shapes: OrderedDict([(x, (None, 256, 768)), (y, (None, 1))]), types: OrderedDict([(x, tf.float32), (y, tf.int32)])>,\n",
       " <MapDataset shapes: OrderedDict([(x, (None, 256, 768)), (y, (None, 1))]), types: OrderedDict([(x, tf.float32), (y, tf.int32)])>,\n",
       " <MapDataset shapes: OrderedDict([(x, (None, 256, 768)), (y, (None, 1))]), types: OrderedDict([(x, tf.float32), (y, tf.int32)])>,\n",
       " <MapDataset shapes: OrderedDict([(x, (None, 256, 768)), (y, (None, 1))]), types: OrderedDict([(x, tf.float32), (y, tf.int32)])>,\n",
       " <MapDataset shapes: OrderedDict([(x, (None, 256, 768)), (y, (None, 1))]), types: OrderedDict([(x, tf.float32), (y, tf.int32)])>]"
      ]
     },
     "execution_count": 47,
     "metadata": {},
     "output_type": "execute_result"
    }
   ],
   "source": [
    "federated_learning"
   ]
  },
  {
   "cell_type": "code",
   "execution_count": 48,
   "metadata": {},
   "outputs": [
    {
     "data": {
      "text/plain": [
       "<bound method Model.summary of <tensorflow.python.keras.engine.functional.Functional object at 0x7fb6bc07f898>>"
      ]
     },
     "execution_count": 48,
     "metadata": {},
     "output_type": "execute_result"
    }
   ],
   "source": [
    "model_lstm.summary"
   ]
  },
  {
   "cell_type": "code",
   "execution_count": 49,
   "metadata": {
    "id": "5R6YFbg2H3Xj"
   },
   "outputs": [],
   "source": [
    "def create_tff_model():\n",
    "    input_spec = federated_learning[0].element_spec\n",
    "    model_lstm= create_model() # This is the only changet\n",
    "    keras_model_clone = tf.keras.models.clone_model(model_lstm)\n",
    "    return tff.learning.from_keras_model(\n",
    "        keras_model_clone,\n",
    "        input_spec = input_spec,\n",
    "        loss = tf.keras.losses.BinaryCrossentropy(from_logits=False)\n",
    "    )"
   ]
  },
  {
   "cell_type": "code",
   "execution_count": null,
   "metadata": {},
   "outputs": [],
   "source": [
    "# Fed_avg\n",
    "\n",
    "# step1: weights sent to each client\n",
    "# loss is computed independently at each client\n",
    "# gradients for each weight\n",
    "# sent back to the server\n",
    "\n",
    "# 7 updates\n",
    "# sum(updates)/7\n",
    "# w = w + update\n",
    "\n",
    "# go back to step 1"
   ]
  },
  {
   "cell_type": "code",
   "execution_count": 50,
   "metadata": {
    "colab": {
     "base_uri": "https://localhost:8080/"
    },
    "id": "7Ba0BffnLNcr",
    "outputId": "4311ddac-1a90-4475-b260-2d522a8109c8"
   },
   "outputs": [
    {
     "name": "stdout",
     "output_type": "stream",
     "text": [
      "WARNING:tensorflow:Layer lstm will not use cuDNN kernels since it doesn't meet the criteria. It will use a generic GPU kernel as fallback when running on GPU.\n",
      "WARNING:tensorflow:Layer lstm will not use cuDNN kernels since it doesn't meet the criteria. It will use a generic GPU kernel as fallback when running on GPU.\n",
      "WARNING:tensorflow:Layer lstm will not use cuDNN kernels since it doesn't meet the criteria. It will use a generic GPU kernel as fallback when running on GPU.\n",
      "WARNING:tensorflow:Layer lstm_1 will not use cuDNN kernels since it doesn't meet the criteria. It will use a generic GPU kernel as fallback when running on GPU.\n",
      "WARNING:tensorflow:Layer lstm_1 will not use cuDNN kernels since it doesn't meet the criteria. It will use a generic GPU kernel as fallback when running on GPU.\n",
      "WARNING:tensorflow:Layer lstm_1 will not use cuDNN kernels since it doesn't meet the criteria. It will use a generic GPU kernel as fallback when running on GPU.\n",
      "WARNING:tensorflow:Layer lstm will not use cuDNN kernels since it doesn't meet the criteria. It will use a generic GPU kernel as fallback when running on GPU.\n",
      "WARNING:tensorflow:Layer lstm will not use cuDNN kernels since it doesn't meet the criteria. It will use a generic GPU kernel as fallback when running on GPU.\n",
      "WARNING:tensorflow:Layer lstm will not use cuDNN kernels since it doesn't meet the criteria. It will use a generic GPU kernel as fallback when running on GPU.\n",
      "WARNING:tensorflow:Layer lstm_1 will not use cuDNN kernels since it doesn't meet the criteria. It will use a generic GPU kernel as fallback when running on GPU.\n",
      "WARNING:tensorflow:Layer lstm_1 will not use cuDNN kernels since it doesn't meet the criteria. It will use a generic GPU kernel as fallback when running on GPU.\n",
      "WARNING:tensorflow:Layer lstm_1 will not use cuDNN kernels since it doesn't meet the criteria. It will use a generic GPU kernel as fallback when running on GPU.\n",
      "WARNING:tensorflow:Layer lstm will not use cuDNN kernels since it doesn't meet the criteria. It will use a generic GPU kernel as fallback when running on GPU.\n",
      "WARNING:tensorflow:Layer lstm will not use cuDNN kernels since it doesn't meet the criteria. It will use a generic GPU kernel as fallback when running on GPU.\n",
      "WARNING:tensorflow:Layer lstm will not use cuDNN kernels since it doesn't meet the criteria. It will use a generic GPU kernel as fallback when running on GPU.\n",
      "WARNING:tensorflow:Layer lstm_1 will not use cuDNN kernels since it doesn't meet the criteria. It will use a generic GPU kernel as fallback when running on GPU.\n",
      "WARNING:tensorflow:Layer lstm_1 will not use cuDNN kernels since it doesn't meet the criteria. It will use a generic GPU kernel as fallback when running on GPU.\n",
      "WARNING:tensorflow:Layer lstm_1 will not use cuDNN kernels since it doesn't meet the criteria. It will use a generic GPU kernel as fallback when running on GPU.\n",
      "WARNING:tensorflow:Layer lstm will not use cuDNN kernels since it doesn't meet the criteria. It will use a generic GPU kernel as fallback when running on GPU.\n",
      "WARNING:tensorflow:Layer lstm will not use cuDNN kernels since it doesn't meet the criteria. It will use a generic GPU kernel as fallback when running on GPU.\n",
      "WARNING:tensorflow:Layer lstm will not use cuDNN kernels since it doesn't meet the criteria. It will use a generic GPU kernel as fallback when running on GPU.\n",
      "WARNING:tensorflow:Layer lstm_1 will not use cuDNN kernels since it doesn't meet the criteria. It will use a generic GPU kernel as fallback when running on GPU.\n",
      "WARNING:tensorflow:Layer lstm_1 will not use cuDNN kernels since it doesn't meet the criteria. It will use a generic GPU kernel as fallback when running on GPU.\n",
      "WARNING:tensorflow:Layer lstm_1 will not use cuDNN kernels since it doesn't meet the criteria. It will use a generic GPU kernel as fallback when running on GPU.\n",
      "WARNING:tensorflow:Layer lstm will not use cuDNN kernels since it doesn't meet the criteria. It will use a generic GPU kernel as fallback when running on GPU.\n",
      "WARNING:tensorflow:Layer lstm will not use cuDNN kernels since it doesn't meet the criteria. It will use a generic GPU kernel as fallback when running on GPU.\n",
      "WARNING:tensorflow:Layer lstm will not use cuDNN kernels since it doesn't meet the criteria. It will use a generic GPU kernel as fallback when running on GPU.\n",
      "WARNING:tensorflow:Layer lstm_1 will not use cuDNN kernels since it doesn't meet the criteria. It will use a generic GPU kernel as fallback when running on GPU.\n",
      "WARNING:tensorflow:Layer lstm_1 will not use cuDNN kernels since it doesn't meet the criteria. It will use a generic GPU kernel as fallback when running on GPU.\n",
      "WARNING:tensorflow:Layer lstm_1 will not use cuDNN kernels since it doesn't meet the criteria. It will use a generic GPU kernel as fallback when running on GPU.\n",
      "WARNING:tensorflow:Layer lstm will not use cuDNN kernels since it doesn't meet the criteria. It will use a generic GPU kernel as fallback when running on GPU.\n",
      "WARNING:tensorflow:Layer lstm will not use cuDNN kernels since it doesn't meet the criteria. It will use a generic GPU kernel as fallback when running on GPU.\n",
      "WARNING:tensorflow:Layer lstm will not use cuDNN kernels since it doesn't meet the criteria. It will use a generic GPU kernel as fallback when running on GPU.\n",
      "WARNING:tensorflow:Layer lstm_1 will not use cuDNN kernels since it doesn't meet the criteria. It will use a generic GPU kernel as fallback when running on GPU.\n",
      "WARNING:tensorflow:Layer lstm_1 will not use cuDNN kernels since it doesn't meet the criteria. It will use a generic GPU kernel as fallback when running on GPU.\n",
      "WARNING:tensorflow:Layer lstm_1 will not use cuDNN kernels since it doesn't meet the criteria. It will use a generic GPU kernel as fallback when running on GPU.\n",
      "WARNING:tensorflow:Layer lstm will not use cuDNN kernels since it doesn't meet the criteria. It will use a generic GPU kernel as fallback when running on GPU.\n",
      "WARNING:tensorflow:Layer lstm will not use cuDNN kernels since it doesn't meet the criteria. It will use a generic GPU kernel as fallback when running on GPU.\n",
      "WARNING:tensorflow:Layer lstm will not use cuDNN kernels since it doesn't meet the criteria. It will use a generic GPU kernel as fallback when running on GPU.\n",
      "WARNING:tensorflow:Layer lstm_1 will not use cuDNN kernels since it doesn't meet the criteria. It will use a generic GPU kernel as fallback when running on GPU.\n",
      "WARNING:tensorflow:Layer lstm_1 will not use cuDNN kernels since it doesn't meet the criteria. It will use a generic GPU kernel as fallback when running on GPU.\n",
      "WARNING:tensorflow:Layer lstm_1 will not use cuDNN kernels since it doesn't meet the criteria. It will use a generic GPU kernel as fallback when running on GPU.\n",
      "WARNING:tensorflow:Layer lstm will not use cuDNN kernels since it doesn't meet the criteria. It will use a generic GPU kernel as fallback when running on GPU.\n",
      "WARNING:tensorflow:Layer lstm will not use cuDNN kernels since it doesn't meet the criteria. It will use a generic GPU kernel as fallback when running on GPU.\n",
      "WARNING:tensorflow:Layer lstm will not use cuDNN kernels since it doesn't meet the criteria. It will use a generic GPU kernel as fallback when running on GPU.\n",
      "WARNING:tensorflow:Layer lstm_1 will not use cuDNN kernels since it doesn't meet the criteria. It will use a generic GPU kernel as fallback when running on GPU.\n",
      "WARNING:tensorflow:Layer lstm_1 will not use cuDNN kernels since it doesn't meet the criteria. It will use a generic GPU kernel as fallback when running on GPU.\n",
      "WARNING:tensorflow:Layer lstm_1 will not use cuDNN kernels since it doesn't meet the criteria. It will use a generic GPU kernel as fallback when running on GPU.\n"
     ]
    }
   ],
   "source": [
    "fed_avg = tff.learning.build_federated_averaging_process(\n",
    "    model_fn = create_tff_model,\n",
    "    client_optimizer_fn = lambda: tf.keras.optimizers.Adam(learning_rate=0.0001)\n",
    ")"
   ]
  },
  {
   "cell_type": "code",
   "execution_count": 51,
   "metadata": {},
   "outputs": [
    {
     "data": {
      "text/plain": [
       "<MapDataset shapes: OrderedDict([(x, (None, 256, 768)), (y, (None, 1))]), types: OrderedDict([(x, tf.float32), (y, tf.int32)])>"
      ]
     },
     "execution_count": 51,
     "metadata": {},
     "output_type": "execute_result"
    }
   ],
   "source": [
    "federated_learning[-1]"
   ]
  },
  {
   "cell_type": "code",
   "execution_count": 52,
   "metadata": {
    "colab": {
     "base_uri": "https://localhost:8080/"
    },
    "id": "lnqNH6i1Mzo9",
    "outputId": "f43a4c75-7eaa-4280-c333-9a45180908e9"
   },
   "outputs": [
    {
     "name": "stdout",
     "output_type": "stream",
     "text": [
      "Requirement already satisfied: nest_asyncio in /usr/local/lib/python3.6/dist-packages (1.5.1)\n",
      "\u001b[33mWARNING: You are using pip version 20.2.4; however, version 21.3.1 is available.\n",
      "You should consider upgrading via the '/usr/bin/python3 -m pip install --upgrade pip' command.\u001b[0m\n"
     ]
    }
   ],
   "source": [
    "!pip install nest_asyncio\n",
    "import nest_asyncio\n",
    "nest_asyncio.apply()"
   ]
  },
  {
   "cell_type": "code",
   "execution_count": 53,
   "metadata": {
    "id": "WlA5sIKyLcQo"
   },
   "outputs": [
    {
     "name": "stdout",
     "output_type": "stream",
     "text": [
      "WARNING:tensorflow:From /usr/local/lib/python3.6/dist-packages/tensorflow_federated/python/core/impl/compiler/tensorflow_computation_transformations.py:60: extract_sub_graph (from tensorflow.python.framework.graph_util_impl) is deprecated and will be removed in a future version.\n",
      "Instructions for updating:\n",
      "Use `tf.compat.v1.graph_util.extract_sub_graph`\n"
     ]
    },
    {
     "name": "stderr",
     "output_type": "stream",
     "text": [
      "WARNING:tensorflow:From /usr/local/lib/python3.6/dist-packages/tensorflow_federated/python/core/impl/compiler/tensorflow_computation_transformations.py:60: extract_sub_graph (from tensorflow.python.framework.graph_util_impl) is deprecated and will be removed in a future version.\n",
      "Instructions for updating:\n",
      "Use `tf.compat.v1.graph_util.extract_sub_graph`\n"
     ]
    }
   ],
   "source": [
    "state = fed_avg.initialize()"
   ]
  },
  {
   "cell_type": "code",
   "execution_count": 54,
   "metadata": {
    "id": "4fhsAo1_L5nO"
   },
   "outputs": [
    {
     "name": "stderr",
     "output_type": "stream",
     "text": [
      " 10%|█         | 1/10 [08:48<1:19:12, 528.04s/it]"
     ]
    },
    {
     "name": "stdout",
     "output_type": "stream",
     "text": [
      "OrderedDict([('loss', 0.582138)])\n"
     ]
    },
    {
     "name": "stderr",
     "output_type": "stream",
     "text": [
      " 20%|██        | 2/10 [17:21<1:09:48, 523.56s/it]"
     ]
    },
    {
     "name": "stdout",
     "output_type": "stream",
     "text": [
      "OrderedDict([('loss', 0.56518734)])\n"
     ]
    },
    {
     "name": "stderr",
     "output_type": "stream",
     "text": [
      " 30%|███       | 3/10 [25:56<1:00:48, 521.22s/it]"
     ]
    },
    {
     "name": "stdout",
     "output_type": "stream",
     "text": [
      "OrderedDict([('loss', 0.5566687)])\n"
     ]
    },
    {
     "name": "stderr",
     "output_type": "stream",
     "text": [
      " 40%|████      | 4/10 [34:33<51:58, 519.73s/it]  "
     ]
    },
    {
     "name": "stdout",
     "output_type": "stream",
     "text": [
      "OrderedDict([('loss', 0.5476993)])\n"
     ]
    },
    {
     "name": "stderr",
     "output_type": "stream",
     "text": [
      " 50%|█████     | 5/10 [43:09<43:12, 518.59s/it]"
     ]
    },
    {
     "name": "stdout",
     "output_type": "stream",
     "text": [
      "OrderedDict([('loss', 0.5405695)])\n"
     ]
    },
    {
     "name": "stderr",
     "output_type": "stream",
     "text": [
      " 60%|██████    | 6/10 [51:43<34:29, 517.32s/it]"
     ]
    },
    {
     "name": "stdout",
     "output_type": "stream",
     "text": [
      "OrderedDict([('loss', 0.5349485)])\n"
     ]
    },
    {
     "name": "stderr",
     "output_type": "stream",
     "text": [
      " 70%|███████   | 7/10 [1:00:17<25:49, 516.47s/it]"
     ]
    },
    {
     "name": "stdout",
     "output_type": "stream",
     "text": [
      "OrderedDict([('loss', 0.5305593)])\n"
     ]
    },
    {
     "name": "stderr",
     "output_type": "stream",
     "text": [
      " 80%|████████  | 8/10 [1:08:52<17:11, 515.92s/it]"
     ]
    },
    {
     "name": "stdout",
     "output_type": "stream",
     "text": [
      "OrderedDict([('loss', 0.52592325)])\n"
     ]
    },
    {
     "name": "stderr",
     "output_type": "stream",
     "text": [
      " 90%|█████████ | 9/10 [1:17:29<08:36, 516.25s/it]"
     ]
    },
    {
     "name": "stdout",
     "output_type": "stream",
     "text": [
      "OrderedDict([('loss', 0.52089626)])\n"
     ]
    },
    {
     "name": "stderr",
     "output_type": "stream",
     "text": [
      "100%|██████████| 10/10 [1:26:05<00:00, 516.03s/it]"
     ]
    },
    {
     "name": "stdout",
     "output_type": "stream",
     "text": [
      "OrderedDict([('loss', 0.51897067)])\n"
     ]
    },
    {
     "name": "stderr",
     "output_type": "stream",
     "text": [
      "\n"
     ]
    }
   ],
   "source": [
    "for i in tqdm(range(10)):\n",
    "  state,metrics = fed_avg.next(state,federated_learning)\n",
    "  print(metrics['train'])"
   ]
  },
  {
   "cell_type": "code",
   "execution_count": 55,
   "metadata": {
    "colab": {
     "base_uri": "https://localhost:8080/"
    },
    "id": "xIK5AzvnNL35",
    "outputId": "4b030e57-a003-45b3-d327-7d1857a7e6d7"
   },
   "outputs": [
    {
     "data": {
      "text/plain": [
       "OrderedDict([('loss', 0.51897067)])"
      ]
     },
     "execution_count": 55,
     "metadata": {},
     "output_type": "execute_result"
    }
   ],
   "source": [
    "metrics['train']"
   ]
  },
  {
   "cell_type": "code",
   "execution_count": null,
   "metadata": {},
   "outputs": [],
   "source": [
    "!pwd"
   ]
  },
  {
   "cell_type": "markdown",
   "metadata": {},
   "source": [
    "# Save and Clone Model"
   ]
  },
  {
   "cell_type": "code",
   "execution_count": 56,
   "metadata": {
    "id": "uYlaGumAZ2Py"
   },
   "outputs": [],
   "source": [
    "fed_model = tf.keras.models.clone_model(model_lstm)\n",
    "state.model.assign_weights_to(fed_model)"
   ]
  },
  {
   "cell_type": "code",
   "execution_count": 57,
   "metadata": {
    "id": "CRtOUPITfSL3"
   },
   "outputs": [],
   "source": [
    "fed_model.compile(loss=tf.keras.losses.BinaryCrossentropy(), optimizer='adam')"
   ]
  },
  {
   "cell_type": "code",
   "execution_count": 58,
   "metadata": {
    "id": "K_3D7-oP_fZr"
   },
   "outputs": [
    {
     "name": "stdout",
     "output_type": "stream",
     "text": [
      "Federated Model Performance: \n",
      "\n"
     ]
    }
   ],
   "source": [
    "print(\"Federated Model Performance: \")\n",
    "print()"
   ]
  },
  {
   "cell_type": "code",
   "execution_count": 59,
   "metadata": {},
   "outputs": [
    {
     "name": "stderr",
     "output_type": "stream",
     "text": [
      "WARNING:absl:Found untraced functions such as lstm_cell_13_layer_call_fn, lstm_cell_13_layer_call_and_return_conditional_losses, lstm_cell_14_layer_call_fn, lstm_cell_14_layer_call_and_return_conditional_losses, lstm_cell_16_layer_call_fn while saving (showing 5 of 20). These functions will not be directly callable after loading.\n"
     ]
    },
    {
     "name": "stdout",
     "output_type": "stream",
     "text": [
      "INFO:tensorflow:Assets written to: /tf/shrey-vishwa/assets\n"
     ]
    },
    {
     "name": "stderr",
     "output_type": "stream",
     "text": [
      "INFO:tensorflow:Assets written to: /tf/shrey-vishwa/assets\n"
     ]
    }
   ],
   "source": [
    "fed_model.save('/tf/shrey-vishwa')"
   ]
  },
  {
   "cell_type": "code",
   "execution_count": 60,
   "metadata": {},
   "outputs": [],
   "source": [
    "fed_model = create_model()"
   ]
  },
  {
   "cell_type": "code",
   "execution_count": 61,
   "metadata": {},
   "outputs": [],
   "source": [
    "fed_model = keras.models.load_model('/tf/shrey-vishwa')"
   ]
  },
  {
   "cell_type": "code",
   "execution_count": 62,
   "metadata": {},
   "outputs": [
    {
     "name": "stdout",
     "output_type": "stream",
     "text": [
      "Model: \"model_1\"\n",
      "_________________________________________________________________\n",
      "Layer (type)                 Output Shape              Param #   \n",
      "=================================================================\n",
      "input_2 (InputLayer)         [(None, 256, 768)]        0         \n",
      "_________________________________________________________________\n",
      "bidirectional_2 (Bidirection (None, 256, 128)          426496    \n",
      "_________________________________________________________________\n",
      "dropout_2 (Dropout)          (None, 256, 128)          0         \n",
      "_________________________________________________________________\n",
      "bidirectional_3 (Bidirection (None, 64)                41216     \n",
      "_________________________________________________________________\n",
      "dropout_3 (Dropout)          (None, 64)                0         \n",
      "_________________________________________________________________\n",
      "dense_1 (Dense)              (None, 1)                 65        \n",
      "=================================================================\n",
      "Total params: 467,777\n",
      "Trainable params: 467,777\n",
      "Non-trainable params: 0\n",
      "_________________________________________________________________\n"
     ]
    }
   ],
   "source": [
    "fed_model.summary()"
   ]
  },
  {
   "cell_type": "markdown",
   "metadata": {},
   "source": [
    "# Indo ML Test"
   ]
  },
  {
   "cell_type": "code",
   "execution_count": 63,
   "metadata": {},
   "outputs": [
    {
     "name": "stdout",
     "output_type": "stream",
     "text": [
      "5000\n",
      "4000\n"
     ]
    }
   ],
   "source": [
    "infile = open('indoML.pickle','rb')\n",
    "\n",
    "import pickle\n",
    "import math\n",
    "df_indoML = pickle.load(infile)\n",
    "infile.close()\n",
    "\n",
    "\n",
    "dataset1=[]\n",
    "for i in range(len(df_indoML)):\n",
    "    dataset1.append(df_indoML[i][0])\n",
    "    \n",
    "idx = math.floor(df_indoML.shape[0]*0.8)\n",
    "print(df_indoML.shape[0])\n",
    "print(idx)\n",
    "\n",
    "indoml_test_x = dataset1[idx:]\n",
    "df_indoML=0\n",
    "\n",
    "infile = open('indoML_labels.pickle','rb')\n",
    "\n",
    "import pickle\n",
    "df_indoML_labels = pickle.load(infile)\n",
    "infile.close()\n",
    "\n",
    "indoml_test_y = df_indoML_labels[idx:].to_list()\n",
    "\n",
    "for i in indoml_test_y:\n",
    "    i = int(i)\n",
    "    \n",
    "df_indoML_labels=0"
   ]
  },
  {
   "cell_type": "code",
   "execution_count": 66,
   "metadata": {},
   "outputs": [],
   "source": [
    "indoml_test_x=np.array(indoml_test_x)\n",
    "indoml_test_y=np.array(indoml_test_y)"
   ]
  },
  {
   "cell_type": "code",
   "execution_count": 67,
   "metadata": {},
   "outputs": [
    {
     "name": "stdout",
     "output_type": "stream",
     "text": [
      "accuracy\n",
      "0.582\n",
      "prec-recall-f1-weighted\n",
      "(0.5293776193111974, 0.582, 0.5316095444905066, None)\n",
      "prec-recall-f1-label-wise\n"
     ]
    },
    {
     "data": {
      "text/plain": [
       "(array([0.6242497 , 0.37125749]),\n",
       " array([0.832     , 0.16533333]),\n",
       " array([0.7133059 , 0.22878229]),\n",
       " array([625, 375]))"
      ]
     },
     "execution_count": 67,
     "metadata": {},
     "output_type": "execute_result"
    }
   ],
   "source": [
    "from sklearn.metrics import accuracy_score\n",
    "from sklearn.metrics import precision_recall_fscore_support\n",
    "\n",
    "y_pred = fed_model.predict(indoml_test_x)\n",
    "for i in range(len(y_pred)):\n",
    "    if y_pred[i] < 0.5:\n",
    "        y_pred[i]=0\n",
    "    else:\n",
    "        y_pred[i]=1\n",
    "\n",
    "print(\"accuracy\")\n",
    "print(accuracy_score(indoml_test_y, y_pred))\n",
    "print(\"prec-recall-f1-weighted\")\n",
    "print(precision_recall_fscore_support(indoml_test_y, y_pred, average='weighted'))\n",
    "print(\"prec-recall-f1-label-wise\")\n",
    "precision_recall_fscore_support(indoml_test_y, y_pred, average=None,labels=[0,1])"
   ]
  },
  {
   "cell_type": "markdown",
   "metadata": {},
   "source": [
    "# HASOC Test"
   ]
  },
  {
   "cell_type": "code",
   "execution_count": 68,
   "metadata": {},
   "outputs": [
    {
     "name": "stdout",
     "output_type": "stream",
     "text": [
      "4665\n",
      "3732\n"
     ]
    }
   ],
   "source": [
    "infile = open('df_hasoc.pickle','rb')\n",
    "df_hasoc = pickle.load(infile)\n",
    "infile.close()\n",
    "\n",
    "dataset1 = []\n",
    "df_hasoc['Final'] = None\n",
    "for i in range(len(df_hasoc)):\n",
    "  dataset1.append(df_hasoc['Embeddings'][i][0])\n",
    "df_hasoc['Final'] = dataset1\n",
    "\n",
    "idx = math.floor(df_hasoc.shape[0]*0.8)\n",
    "print(df_hasoc.shape[0])\n",
    "print(idx)\n",
    "\n",
    "hasoc_test_x = df_hasoc['Final'].to_list()[idx:]\n",
    "hasoc_test_y = df_hasoc['Label'].to_list()[idx:]\n",
    "\n",
    "df_hasoc = 0"
   ]
  },
  {
   "cell_type": "code",
   "execution_count": 69,
   "metadata": {},
   "outputs": [],
   "source": [
    "hasoc_test_x = np.array(hasoc_test_x)"
   ]
  },
  {
   "cell_type": "code",
   "execution_count": 70,
   "metadata": {},
   "outputs": [],
   "source": [
    "hasoc_test_y = np.array(hasoc_test_y)"
   ]
  },
  {
   "cell_type": "code",
   "execution_count": 71,
   "metadata": {},
   "outputs": [],
   "source": [
    "import sklearn"
   ]
  },
  {
   "cell_type": "code",
   "execution_count": 72,
   "metadata": {},
   "outputs": [
    {
     "name": "stdout",
     "output_type": "stream",
     "text": [
      "accuracy\n",
      "0.6259378349410504\n",
      "prec-recall-f1-weighted\n",
      "(0.7237770784668718, 0.6259378349410504, 0.6568858772349011, None)\n",
      "prec-recall-f1-label-wise\n"
     ]
    },
    {
     "data": {
      "text/plain": [
       "(array([0.3      , 0.8401421]),\n",
       " array([0.55223881, 0.64617486]),\n",
       " array([0.38879159, 0.73050193]),\n",
       " array([201, 732]))"
      ]
     },
     "execution_count": 72,
     "metadata": {},
     "output_type": "execute_result"
    }
   ],
   "source": [
    "from sklearn.metrics import accuracy_score\n",
    "from sklearn.metrics import precision_recall_fscore_support\n",
    "\n",
    "y_pred = fed_model.predict(hasoc_test_x)\n",
    "for i in range(len(y_pred)):\n",
    "    if y_pred[i] < 0.5:\n",
    "        y_pred[i]=0\n",
    "    else:\n",
    "        y_pred[i]=1\n",
    "\n",
    "print(\"accuracy\")\n",
    "print(accuracy_score(hasoc_test_y, y_pred))\n",
    "print(\"prec-recall-f1-weighted\")\n",
    "print(precision_recall_fscore_support(hasoc_test_y, y_pred, average='weighted'))\n",
    "print(\"prec-recall-f1-label-wise\")\n",
    "precision_recall_fscore_support(hasoc_test_y, y_pred, average=None,labels=[0,1])"
   ]
  },
  {
   "cell_type": "code",
   "execution_count": 73,
   "metadata": {},
   "outputs": [
    {
     "data": {
      "text/plain": [
       "<Figure size 432x288 with 0 Axes>"
      ]
     },
     "execution_count": 73,
     "metadata": {},
     "output_type": "execute_result"
    },
    {
     "data": {
      "text/plain": [
       "<Figure size 432x288 with 0 Axes>"
      ]
     },
     "metadata": {},
     "output_type": "display_data"
    }
   ],
   "source": [
    "import sklearn.metrics as metrics\n",
    "fpr, tpr, threshold = metrics.roc_curve(hasoc_test_y, y_pred)\n",
    "roc_auc = metrics.auc(fpr, tpr)\n",
    "import matplotlib.pyplot as plt\n",
    "\n",
    "plt.figure()\n",
    "\n",
    "#plt.title('Receiver Operating Characteristic')\n",
    "#plt.plot(fpr, tpr, 'b', label = 'hasoc AUC = %0.2f' % roc_auc)\n",
    "#plt.legend(loc = 'lower right')\n",
    "#plt.plot([0, 1], [0, 1],'r--')\n",
    "#plt.xlim([0, 1])\n",
    "#plt.ylim([0, 1])\n",
    "#plt.ylabel('True Positive Rate')\n",
    "#plt.xlabel('False Positive Rate')\n",
    "#plt.show()"
   ]
  },
  {
   "cell_type": "code",
   "execution_count": 74,
   "metadata": {},
   "outputs": [],
   "source": [
    "#from sklearn.metrics import accuracy_score\n",
    "#from sklearn.metrics import precision_recall_fscore_support\n",
    "\n",
    "#y_pred = centralized_model.predict(hasoc_test_x)\n",
    "#for i in range(len(y_pred)):\n",
    "#    if y_pred[i] < 0.5:\n",
    " #       y_pred[i]=0\n",
    "  #  else:\n",
    "   #     y_pred[i]=1\n",
    "\n",
    "#print(\"accuracy\")\n",
    "#print(accuracy_score(hasoc_test_y, y_pred))\n",
    "#print(\"prec-recall-f1-macro\")\n",
    "#print(precision_recall_fscore_support(hasoc_test_y, y_pred, average='macro'))\n",
    "#print(\"prec-recall-f1-micro\")\n",
    "#print(precision_recall_fscore_support(hasoc_test_y, y_pred, average='micro'))\n",
    "#print(\"prec-recall-f1-weighted\")\n",
    "#print(precision_recall_fscore_support(hasoc_test_y, y_pred, average='weighted'))\n",
    "#print(\"prec-recall-f1-label-wise\")\n",
    "#precision_recall_fscore_support(hasoc_test_y, y_pred, average=None,labels=[0,1])"
   ]
  },
  {
   "cell_type": "code",
   "execution_count": 75,
   "metadata": {},
   "outputs": [],
   "source": [
    "hasoc_test_x=0\n",
    "hasoc_test_y=0"
   ]
  },
  {
   "cell_type": "markdown",
   "metadata": {},
   "source": [
    "# DHOT Test"
   ]
  },
  {
   "cell_type": "code",
   "execution_count": 76,
   "metadata": {},
   "outputs": [],
   "source": [
    "infile = open('dhot.pickle','rb')\n",
    "df_dhot = pickle.load(infile)\n",
    "infile.close()"
   ]
  },
  {
   "cell_type": "code",
   "execution_count": 77,
   "metadata": {},
   "outputs": [],
   "source": [
    "dhot_train_tf=0"
   ]
  },
  {
   "cell_type": "code",
   "execution_count": 78,
   "metadata": {},
   "outputs": [
    {
     "name": "stdout",
     "output_type": "stream",
     "text": [
      "1603\n",
      "1282\n"
     ]
    }
   ],
   "source": [
    "dataset1 = []\n",
    "df_dhot['Final'] = None\n",
    "for i in range(len(df_dhot)):\n",
    "  dataset1.append(df_dhot['Embeddings'][i][0])\n",
    "df_dhot['Final'] = dataset1\n",
    "\n",
    "idx = math.floor(df_dhot.shape[0]*0.8)\n",
    "print(df_dhot.shape[0])\n",
    "print(idx)\n",
    "\n",
    "#dhot_train_tf = tf.data.Dataset.from_tensor_slices((df_dhot['Final'].to_list()[:idx], df_dhot['Label'].to_list()[:idx]))\n",
    "dhot_test_x = df_dhot['Final'].to_list()[idx:]\n",
    "dhot_test_y = df_dhot['Label'].to_list()[idx:]"
   ]
  },
  {
   "cell_type": "code",
   "execution_count": 79,
   "metadata": {},
   "outputs": [],
   "source": [
    "dhot_test_x = np.array(dhot_test_x)\n",
    "dhot_test_y = np.array(dhot_test_y)"
   ]
  },
  {
   "cell_type": "code",
   "execution_count": 80,
   "metadata": {},
   "outputs": [
    {
     "name": "stdout",
     "output_type": "stream",
     "text": [
      "11/11 [==============================] - 1s 26ms/step - loss: 0.5317\n"
     ]
    },
    {
     "data": {
      "text/plain": [
       "0.531728208065033"
      ]
     },
     "execution_count": 80,
     "metadata": {},
     "output_type": "execute_result"
    }
   ],
   "source": [
    "fed_model.evaluate(dhot_test_x,dhot_test_y)"
   ]
  },
  {
   "cell_type": "code",
   "execution_count": 81,
   "metadata": {},
   "outputs": [
    {
     "name": "stdout",
     "output_type": "stream",
     "text": [
      "loss\n",
      "11/11 [==============================] - 0s 25ms/step - loss: 0.5317\n",
      "accuracy\n",
      "0.7570093457943925\n",
      "prec-recall-f1-weighted\n",
      "(0.7486146853883546, 0.7570093457943925, 0.7527261590802543, None)\n",
      "prec-recall-f1-label-wise\n"
     ]
    },
    {
     "data": {
      "text/plain": [
       "(array([0.17777778, 0.85144928]),\n",
       " array([0.16326531, 0.86397059]),\n",
       " array([0.17021277, 0.85766423]),\n",
       " array([ 49, 272]))"
      ]
     },
     "execution_count": 81,
     "metadata": {},
     "output_type": "execute_result"
    }
   ],
   "source": [
    "from sklearn.metrics import accuracy_score\n",
    "from sklearn.metrics import precision_recall_fscore_support\n",
    "\n",
    "print(\"loss\")\n",
    "fed_model.evaluate(dhot_test_x,dhot_test_y)\n",
    "\n",
    "y_pred = fed_model.predict(dhot_test_x)\n",
    "for i in range(len(y_pred)):\n",
    "    if y_pred[i] < 0.5:\n",
    "        y_pred[i]=0\n",
    "    else:\n",
    "        y_pred[i]=1\n",
    "\n",
    "print(\"accuracy\")\n",
    "print(accuracy_score(dhot_test_y, y_pred))\n",
    "print(\"prec-recall-f1-weighted\")\n",
    "print(precision_recall_fscore_support(dhot_test_y, y_pred, average='weighted'))\n",
    "print(\"prec-recall-f1-label-wise\")\n",
    "precision_recall_fscore_support(dhot_test_y, y_pred, average=None,labels=[0,1])"
   ]
  },
  {
   "cell_type": "code",
   "execution_count": 82,
   "metadata": {},
   "outputs": [],
   "source": [
    "fpr2, tpr2, threshold = metrics.roc_curve(dhot_test_y, y_pred)\n",
    "roc_auc2 = metrics.auc(fpr2, tpr2)\n",
    "# import matplotlib.pyplot as plt\n",
    "#\n",
    "#plt.plot(fpr, tpr, 'b', label = 'hasoc AUC = %0.2f' % roc_auc)\n",
    "#plt.plot(fpr2, tpr2, 'g', label = 'DHOT AUC = %0.2f' % roc_auc2)\n",
    "\n",
    "#plt.title('Receiver Operating Characteristic')\n",
    "#plt.legend(loc = 'lower right')\n",
    "#plt.plot([0, 1], [0, 1],'r--')\n",
    "#plt.xlim([0, 1])\n",
    "#plt.ylim([0, 1])\n",
    "#plt.ylabel('True Positive Rate')\n",
    "#plt.xlabel('False Positive Rate')\n",
    "\n",
    "#plt.show()"
   ]
  },
  {
   "cell_type": "code",
   "execution_count": 83,
   "metadata": {},
   "outputs": [],
   "source": [
    "#from sklearn.metrics import accuracy_score\n",
    "#from sklearn.metrics import precision_recall_fscore_support\n",
    "\n",
    "#print(\"loss\")\n",
    "#centralized_model.evaluate(dhot_test_x,dhot_test_y)\n",
    "\n",
    "#y_pred = centralized_model.predict(dhot_test_x)\n",
    "#for i in range(len(y_pred)):\n",
    " #   if y_pred[i] < 0.5:\n",
    "  #      y_pred[i]=0\n",
    "   # else:\n",
    "    #    y_pred[i]=1\n",
    "\n",
    "#print(\"accuracy\")\n",
    "#print(accuracy_score(dhot_test_y, y_pred))\n",
    "#print(\"prec-recall-f1-macro\")\n",
    "#print(precision_recall_fscore_support(dhot_test_y, y_pred, average='macro'))\n",
    "#print(\"prec-recall-f1-micro\")\n",
    "#print(precision_recall_fscore_support(dhot_test_y, y_pred, average='micro'))\n",
    "#print(\"prec-recall-f1-weighted\")\n",
    "#print(precision_recall_fscore_support(dhot_test_y, y_pred, average='weighted'))\n",
    "#print(\"prec-recall-f1-label-wise\")\n",
    "#precision_recall_fscore_support(dhot_test_y, y_pred, average=None,labels=[0,1])"
   ]
  },
  {
   "cell_type": "code",
   "execution_count": 84,
   "metadata": {},
   "outputs": [],
   "source": [
    "dhot_test_x=0\n",
    "dhot_test_y=0"
   ]
  },
  {
   "cell_type": "markdown",
   "metadata": {},
   "source": [
    "# TRAC Eng 19"
   ]
  },
  {
   "cell_type": "code",
   "execution_count": 85,
   "metadata": {},
   "outputs": [
    {
     "name": "stdout",
     "output_type": "stream",
     "text": [
      "5000\n",
      "4000\n"
     ]
    }
   ],
   "source": [
    "infile = open('Trac-2019/english/df_trac_eng_2019.pickle','rb')\n",
    "df_traceng19 = pickle.load(infile)\n",
    "infile.close()\n",
    "\n",
    "dataset1 = []\n",
    "df_traceng19['Final'] = None\n",
    "for i in range(len(df_traceng19)):\n",
    "  dataset1.append(df_traceng19['Embeddings'][i][0])\n",
    "df_traceng19['Final'] = dataset1\n",
    "\n",
    "idx = math.floor(df_traceng19.shape[0]*0.8)\n",
    "print(df_traceng19.shape[0])\n",
    "print(idx)\n",
    "\n",
    "#traceng19_train_tf = tf.data.Dataset.from_tensor_slices((df_traceng19['Final'].to_list()[:idx], df_traceng19['Label'].to_list()[:idx]))\n",
    "traceng19_test_x = df_traceng19['Final'].to_list()[idx:]\n",
    "traceng19_test_y = df_traceng19['Label'].to_list()[idx:]\n",
    "df_traceng19 = 0"
   ]
  },
  {
   "cell_type": "code",
   "execution_count": 86,
   "metadata": {},
   "outputs": [],
   "source": [
    "traceng19_test_x = np.array(traceng19_test_x)\n",
    "traceng19_test_y = np.array(traceng19_test_y)"
   ]
  },
  {
   "cell_type": "code",
   "execution_count": 87,
   "metadata": {},
   "outputs": [
    {
     "name": "stdout",
     "output_type": "stream",
     "text": [
      "loss\n",
      "32/32 [==============================] - 1s 26ms/step - loss: 0.7059\n",
      "accuracy\n",
      "0.577\n",
      "prec-recall-f1-weighted\n",
      "(0.6632280312290709, 0.577, 0.5655318408918739, None)\n",
      "prec-recall-f1-label-wise\n"
     ]
    },
    {
     "data": {
      "text/plain": [
       "(array([0.48480463, 0.78317152]),\n",
       " array([0.83333333, 0.40468227]),\n",
       " array([0.61299177, 0.53362734]),\n",
       " array([402, 598]))"
      ]
     },
     "execution_count": 87,
     "metadata": {},
     "output_type": "execute_result"
    }
   ],
   "source": [
    "from sklearn.metrics import accuracy_score\n",
    "from sklearn.metrics import precision_recall_fscore_support\n",
    "\n",
    "print(\"loss\")\n",
    "fed_model.evaluate(traceng19_test_x,traceng19_test_y)\n",
    "\n",
    "y_pred = fed_model.predict(traceng19_test_x)\n",
    "for i in range(len(y_pred)):\n",
    "    if y_pred[i] < 0.5:\n",
    "        y_pred[i]=0\n",
    "    else:\n",
    "        y_pred[i]=1\n",
    "\n",
    "print(\"accuracy\")\n",
    "print(accuracy_score(traceng19_test_y, y_pred))\n",
    "print(\"prec-recall-f1-weighted\")\n",
    "print(precision_recall_fscore_support(traceng19_test_y, y_pred, average='weighted'))\n",
    "print(\"prec-recall-f1-label-wise\")\n",
    "precision_recall_fscore_support(traceng19_test_y, y_pred, average=None,labels=[0,1])"
   ]
  },
  {
   "cell_type": "code",
   "execution_count": 88,
   "metadata": {},
   "outputs": [],
   "source": [
    "fpr3, tpr3, threshold3 = metrics.roc_curve(traceng19_test_y, y_pred)\n",
    "roc_auc3 = metrics.auc(fpr3, tpr3)\n",
    "#import matplotlib.pyplot as plt\n",
    "#plt.title('Receiver Operating Characteristic')\n",
    "#plt.plot(fpr, tpr, 'b', label = 'AUC = %0.2f' % roc_auc)\n",
    "#plt.legend(loc = 'lower right')\n",
    "#plt.plot([0, 1], [0, 1],'r--')\n",
    "#plt.xlim([0, 1])\n",
    "#plt.ylim([0, 1])\n",
    "#plt.ylabel('True Positive Rate')\n",
    "#plt.xlabel('False Positive Rate')\n",
    "#plt.show()"
   ]
  },
  {
   "cell_type": "code",
   "execution_count": 89,
   "metadata": {},
   "outputs": [],
   "source": [
    "traceng19_test_x=0\n",
    "traceng19_test_y=0"
   ]
  },
  {
   "cell_type": "markdown",
   "metadata": {},
   "source": [
    "# TRAC Hin 2019"
   ]
  },
  {
   "cell_type": "code",
   "execution_count": 90,
   "metadata": {},
   "outputs": [
    {
     "name": "stdout",
     "output_type": "stream",
     "text": [
      "5000\n",
      "4000\n"
     ]
    }
   ],
   "source": [
    "infile = open('Trac-2019/hindi/df_trac_hin_2019.pickle','rb')\n",
    "df_trachin19 = pickle.load(infile)\n",
    "infile.close()\n",
    "\n",
    "dataset1 = []\n",
    "df_trachin19['Final'] = None\n",
    "for i in range(len(df_trachin19)):\n",
    "  dataset1.append(df_trachin19['Embeddings'][i][0])\n",
    "df_trachin19['Final'] = dataset1\n",
    "\n",
    "idx = math.floor(df_trachin19.shape[0]*0.8)\n",
    "print(df_trachin19.shape[0])\n",
    "print(idx)\n",
    "\n",
    "#trachin19_train_tf = tf.data.Dataset.from_tensor_slices((df_trachin19['Final'].to_list()[:idx], df_trachin19['Label'].to_list()[:idx]))\n",
    "trachin19_test_x = df_trachin19['Final'].to_list()[idx:]\n",
    "trachin19_test_y = df_trachin19['Label'].to_list()[idx:]\n",
    "df_trachin19 = 0"
   ]
  },
  {
   "cell_type": "code",
   "execution_count": 91,
   "metadata": {},
   "outputs": [],
   "source": [
    "trachin19_test_x = np.array(trachin19_test_x)"
   ]
  },
  {
   "cell_type": "code",
   "execution_count": 92,
   "metadata": {},
   "outputs": [],
   "source": [
    "trachin19_test_y = np.array(trachin19_test_y)"
   ]
  },
  {
   "cell_type": "code",
   "execution_count": 93,
   "metadata": {},
   "outputs": [
    {
     "name": "stdout",
     "output_type": "stream",
     "text": [
      "loss\n",
      "32/32 [==============================] - 1s 26ms/step - loss: 0.6409\n",
      "accuracy\n",
      "0.644\n",
      "prec-recall-f1-weighted\n",
      "(0.7947090909090909, 0.644, 0.6827328740413363, None)\n",
      "prec-recall-f1-label-wise\n"
     ]
    },
    {
     "data": {
      "text/plain": [
       "(array([0.30909091, 0.90714286]),\n",
       " array([0.72340426, 0.62561576]),\n",
       " array([0.43312102, 0.74052478]),\n",
       " array([188, 812]))"
      ]
     },
     "execution_count": 93,
     "metadata": {},
     "output_type": "execute_result"
    }
   ],
   "source": [
    "from sklearn.metrics import accuracy_score\n",
    "from sklearn.metrics import precision_recall_fscore_support\n",
    "\n",
    "print(\"loss\")\n",
    "fed_model.evaluate(trachin19_test_x,trachin19_test_y)\n",
    "\n",
    "y_pred = fed_model.predict(trachin19_test_x)\n",
    "for i in range(len(y_pred)):\n",
    "    if y_pred[i] < 0.5:\n",
    "        y_pred[i]=0\n",
    "    else:\n",
    "        y_pred[i]=1\n",
    "\n",
    "print(\"accuracy\")\n",
    "print(accuracy_score(trachin19_test_y, y_pred))\n",
    "print(\"prec-recall-f1-weighted\")\n",
    "print(precision_recall_fscore_support(trachin19_test_y, y_pred, average='weighted'))\n",
    "print(\"prec-recall-f1-label-wise\")\n",
    "precision_recall_fscore_support(trachin19_test_y, y_pred, average=None,labels=[0,1])"
   ]
  },
  {
   "cell_type": "code",
   "execution_count": 94,
   "metadata": {},
   "outputs": [],
   "source": [
    "fpr4, tpr4, threshold4 = metrics.roc_curve(trachin19_test_y, y_pred)\n",
    "roc_auc4 = metrics.auc(fpr4, tpr4)\n",
    "#import matplotlib.pyplot as plt\n",
    "#plt.title('Receiver Operating Characteristic')\n",
    "#plt.plot(fpr, tpr, 'b', label = 'AUC = %0.2f' % roc_auc)\n",
    "#plt.legend(loc = 'lower right')\n",
    "#plt.plot([0, 1], [0, 1],'r--')\n",
    "#plt.xlim([0, 1])\n",
    "#plt.ylim([0, 1])\n",
    "#plt.ylabel('True Positive Rate')\n",
    "#plt.xlabel('False Positive Rate')\n",
    "#plt.show()"
   ]
  },
  {
   "cell_type": "code",
   "execution_count": 95,
   "metadata": {},
   "outputs": [],
   "source": [
    "#from sklearn.metrics import accuracy_score\n",
    "#from sklearn.metrics import precision_recall_fscore_support\n",
    "\n",
    "#print(\"loss\")\n",
    "#centralized_model.evaluate(trachin19_test_x,trachin19_test_y)\n",
    "\n",
    "#y_pred = centralized_model.predict(trachin19_test_x)\n",
    "#for i in range(len(y_pred)):\n",
    " #   if y_pred[i] < 0.5:\n",
    "  #      y_pred[i]=0\n",
    "   # else:\n",
    "    #    y_pred[i]=1\n",
    "\n",
    "#print(\"accuracy\")\n",
    "#print(accuracy_score(trachin19_test_y, y_pred))\n",
    "#print(\"prec-recall-f1-macro\")\n",
    "#print(precision_recall_fscore_support(trachin19_test_y, y_pred, average='macro'))\n",
    "#print(\"prec-recall-f1-micro\")\n",
    "#print(precision_recall_fscore_support(trachin19_test_y, y_pred, average='micro'))\n",
    "#print(\"prec-recall-f1-weighted\")\n",
    "#print(precision_recall_fscore_support(trachin19_test_y, y_pred, average='weighted'))\n",
    "#print(\"prec-recall-f1-label-wise\")\n",
    "#precision_recall_fscore_support(trachin19_test_y, y_pred, average=None,labels=[0,1])"
   ]
  },
  {
   "cell_type": "code",
   "execution_count": 96,
   "metadata": {},
   "outputs": [],
   "source": [
    "trachin19_test_x=0\n",
    "trachin19_test_y=0"
   ]
  },
  {
   "cell_type": "markdown",
   "metadata": {},
   "source": [
    "# TRAC 20 Eng test"
   ]
  },
  {
   "cell_type": "code",
   "execution_count": 97,
   "metadata": {},
   "outputs": [],
   "source": [
    "infile = open('df_traceng_dev.pickle','rb')\n",
    "df_traceng_test = pickle.load(infile)\n",
    "infile.close()\n",
    "\n",
    "dataset1 = []\n",
    "df_traceng_test['Final'] = None\n",
    "for i in range(len(df_traceng_test)):\n",
    "  dataset1.append(df_traceng_test['Embeddings'][i][0])\n",
    "df_traceng_test['Final'] = dataset1\n",
    "\n",
    "traceng20_test_x = df_traceng_test['Final'].to_list()\n",
    "traceng20_test_y = df_traceng_test['Label'].to_list()"
   ]
  },
  {
   "cell_type": "code",
   "execution_count": 98,
   "metadata": {},
   "outputs": [],
   "source": [
    "traceng20_test_x = np.array(traceng20_test_x)\n",
    "traceng20_test_y = np.array(traceng20_test_y)"
   ]
  },
  {
   "cell_type": "code",
   "execution_count": 99,
   "metadata": {},
   "outputs": [
    {
     "name": "stdout",
     "output_type": "stream",
     "text": [
      "loss\n",
      "34/34 [==============================] - 1s 27ms/step - loss: 0.4776\n",
      "accuracy\n",
      "0.7607879924953096\n",
      "prec-recall-f1-weighted\n",
      "(0.7766162335063119, 0.7607879924953096, 0.7675694585684927, None)\n",
      "prec-recall-f1-label-wise\n"
     ]
    },
    {
     "data": {
      "text/plain": [
       "(array([0.86540881, 0.45387454]),\n",
       " array([0.82296651, 0.53478261]),\n",
       " array([0.8436542 , 0.49101796]),\n",
       " array([836, 230]))"
      ]
     },
     "execution_count": 99,
     "metadata": {},
     "output_type": "execute_result"
    }
   ],
   "source": [
    "from sklearn.metrics import accuracy_score\n",
    "from sklearn.metrics import precision_recall_fscore_support\n",
    "\n",
    "print(\"loss\")\n",
    "fed_model.evaluate(traceng20_test_x,traceng20_test_y)\n",
    "\n",
    "y_pred = fed_model.predict(traceng20_test_x)\n",
    "for i in range(len(y_pred)):\n",
    "    if y_pred[i] < 0.5:\n",
    "        y_pred[i]=0\n",
    "    else:\n",
    "        y_pred[i]=1\n",
    "\n",
    "print(\"accuracy\")\n",
    "print(accuracy_score(traceng20_test_y, y_pred))\n",
    "print(\"prec-recall-f1-weighted\")\n",
    "print(precision_recall_fscore_support(traceng20_test_y, y_pred, average='weighted'))\n",
    "print(\"prec-recall-f1-label-wise\")\n",
    "precision_recall_fscore_support(traceng20_test_y, y_pred, average=None,labels=[0,1])"
   ]
  },
  {
   "cell_type": "code",
   "execution_count": 100,
   "metadata": {},
   "outputs": [],
   "source": [
    "fpr5, tpr5, threshold = metrics.roc_curve(traceng20_test_y, y_pred)\n",
    "roc_auc5 = metrics.auc(fpr5, tpr5)\n",
    "#import matplotlib.pyplot as plt\n",
    "#plt.title('Receiver Operating Characteristic')\n",
    "#plt.plot(fpr, tpr, 'b', label = 'AUC = %0.2f' % roc_auc)\n",
    "#plt.legend(loc = 'lower right')\n",
    "#plt.plot([0, 1], [0, 1],'r--')\n",
    "#plt.xlim([0, 1])\n",
    "#plt.ylim([0, 1])\n",
    "#plt.ylabel('True Positive Rate')\n",
    "#plt.xlabel('False Positive Rate')\n",
    "#plt.show()"
   ]
  },
  {
   "cell_type": "code",
   "execution_count": 101,
   "metadata": {},
   "outputs": [],
   "source": [
    "#from sklearn.metrics import accuracy_score\n",
    "#from sklearn.metrics import precision_recall_fscore_support\n",
    "\n",
    "#print(\"loss\")\n",
    "#centralized_model.evaluate(traceng20_test_x,traceng20_test_y)\n",
    "\n",
    "#y_pred = centralized_model.predict(traceng20_test_x)\n",
    "#for i in range(len(y_pred)):\n",
    " #   if y_pred[i] < 0.5:\n",
    "  #      y_pred[i]=0\n",
    "   # else:\n",
    "    #    y_pred[i]=1\n",
    "\n",
    "#print(\"accuracy\")\n",
    "#print(accuracy_score(traceng20_test_y, y_pred))\n",
    "#print(\"prec-recall-f1-macro\")\n",
    "#print(precision_recall_fscore_support(traceng20_test_y, y_pred, average='macro'))\n",
    "#print(\"prec-recall-f1-micro\")\n",
    "#print(precision_recall_fscore_support(traceng20_test_y, y_pred, average='micro'))\n",
    "#print(\"prec-recall-f1-weighted\")\n",
    "#print(precision_recall_fscore_support(traceng20_test_y, y_pred, average='weighted'))\n",
    "#print(\"prec-recall-f1-label-wise\")\n",
    "#precision_recall_fscore_support(traceng20_test_y, y_pred, average=None,labels=[0,1])"
   ]
  },
  {
   "cell_type": "code",
   "execution_count": 102,
   "metadata": {},
   "outputs": [],
   "source": [
    "traceng20_test_x =0\n",
    "traceng20_test_y =0"
   ]
  },
  {
   "cell_type": "markdown",
   "metadata": {},
   "source": [
    "# TRAC Hin 20 Test"
   ]
  },
  {
   "cell_type": "code",
   "execution_count": 103,
   "metadata": {},
   "outputs": [],
   "source": [
    "infile = open('df_trachin_dev.pickle','rb')\n",
    "df_trachin_test = pickle.load(infile)\n",
    "infile.close()\n",
    "\n",
    "dataset1 = []\n",
    "df_trachin_test['Final'] = None\n",
    "for i in range(len(df_trachin_test)):\n",
    "  dataset1.append(df_trachin_test['Embeddings'][i][0])\n",
    "df_trachin_test['Final'] = dataset1\n",
    "\n",
    "trachin20_test_x = df_trachin_test['Final'].to_list()\n",
    "trachin20_test_y = df_trachin_test['Label'].to_list()\n",
    "df_trachin_test=0"
   ]
  },
  {
   "cell_type": "code",
   "execution_count": 104,
   "metadata": {},
   "outputs": [],
   "source": [
    "trachin20_test_x=np.array(trachin20_test_x)\n",
    "trachin20_test_y=np.array(trachin20_test_y)"
   ]
  },
  {
   "cell_type": "code",
   "execution_count": 105,
   "metadata": {},
   "outputs": [
    {
     "name": "stdout",
     "output_type": "stream",
     "text": [
      "loss\n",
      "32/32 [==============================] - 1s 26ms/step - loss: 0.5790\n",
      "accuracy\n",
      "0.695085255767302\n",
      "prec-recall-f1-weighted\n",
      "(0.6922616920374544, 0.695085255767302, 0.6879816899788325, None)\n",
      "prec-recall-f1-label-wise\n"
     ]
    },
    {
     "data": {
      "text/plain": [
       "(array([0.70570571, 0.67371601]),\n",
       " array([0.81314879, 0.53221957]),\n",
       " array([0.75562701, 0.59466667]),\n",
       " array([578, 419]))"
      ]
     },
     "execution_count": 105,
     "metadata": {},
     "output_type": "execute_result"
    }
   ],
   "source": [
    "from sklearn.metrics import accuracy_score\n",
    "from sklearn.metrics import precision_recall_fscore_support\n",
    "\n",
    "print(\"loss\")\n",
    "fed_model.evaluate(trachin20_test_x,trachin20_test_y)\n",
    "\n",
    "y_pred = fed_model.predict(trachin20_test_x)\n",
    "for i in range(len(y_pred)):\n",
    "    if y_pred[i] < 0.5:\n",
    "        y_pred[i]=0\n",
    "    else:\n",
    "        y_pred[i]=1\n",
    "\n",
    "print(\"accuracy\")\n",
    "print(accuracy_score(trachin20_test_y, y_pred))\n",
    "print(\"prec-recall-f1-weighted\")\n",
    "print(precision_recall_fscore_support(trachin20_test_y, y_pred, average='weighted'))\n",
    "print(\"prec-recall-f1-label-wise\")\n",
    "precision_recall_fscore_support(trachin20_test_y, y_pred, average=None,labels=[0,1])"
   ]
  },
  {
   "cell_type": "code",
   "execution_count": 106,
   "metadata": {},
   "outputs": [],
   "source": [
    "fpr6, tpr6, threshold = metrics.roc_curve(trachin20_test_y, y_pred)\n",
    "roc_auc6 = metrics.auc(fpr6, tpr6)\n",
    "#import matplotlib.pyplot as plt\n",
    "#plt.title('Receiver Operating Characteristic')\n",
    "#plt.plot(fpr, tpr, 'b', label = 'AUC = %0.2f' % roc_auc)\n",
    "#plt.legend(loc = 'lower right')\n",
    "#plt.plot([0, 1], [0, 1],'r--')\n",
    "#plt.xlim([0, 1])\n",
    "#plt.ylim([0, 1])\n",
    "#plt.ylabel('True Positive Rate')\n",
    "#plt.xlabel('False Positive Rate')\n",
    "#plt.show()"
   ]
  },
  {
   "cell_type": "code",
   "execution_count": 107,
   "metadata": {},
   "outputs": [],
   "source": [
    "#from sklearn.metrics import accuracy_score\n",
    "#from sklearn.metrics import precision_recall_fscore_support\n",
    "\n",
    "#print(\"loss\")\n",
    "#centralized_model.evaluate(trachin20_test_x,trachin20_test_y)\n",
    "\n",
    "#y_pred = centralized_model.predict(trachin20_test_x)\n",
    "#for i in range(len(y_pred)):\n",
    " #   if y_pred[i] < 0.5:\n",
    "  #      y_pred[i]=0\n",
    "   # else:\n",
    "    #    y_pred[i]=1\n",
    "\n",
    "#print(\"accuracy\")\n",
    "#print(accuracy_score(trachin20_test_y, y_pred))\n",
    "#print(\"prec-recall-f1-macro\")\n",
    "#print(precision_recall_fscore_support(trachin20_test_y, y_pred, average='macro'))\n",
    "#print(\"prec-recall-f1-micro\")\n",
    "#print(precision_recall_fscore_support(trachin20_test_y, y_pred, average='micro'))\n",
    "#print(\"prec-recall-f1-weighted\")\n",
    "#print(precision_recall_fscore_support(trachin20_test_y, y_pred, average='weighted'))\n",
    "#print(\"prec-recall-f1-label-wise\")\n",
    "#precision_recall_fscore_support(trachin20_test_y, y_pred, average=None,labels=[0,1])"
   ]
  },
  {
   "cell_type": "code",
   "execution_count": 108,
   "metadata": {},
   "outputs": [],
   "source": [
    "trachin20_test_x=0\n",
    "trachin20_test_y=0"
   ]
  },
  {
   "cell_type": "markdown",
   "metadata": {},
   "source": [
    "# Plot ROC-AUC"
   ]
  },
  {
   "cell_type": "code",
   "execution_count": null,
   "metadata": {},
   "outputs": [],
   "source": [
    "plt.plot(fpr, tpr, 'b', label = 'hasoc AUC = %0.2f' % roc_auc)\n",
    "plt.plot(fpr2, tpr2, 'g', label = 'DHOT AUC = %0.2f' % roc_auc2)\n",
    "plt.plot(fpr3, tpr3, 'b--', label = 'Trac eng 19 AUC = %0.2f' % roc_auc3)\n",
    "plt.plot(fpr4, tpr4, 'g--', label = 'Trac hin 19 AUC = %0.2f' % roc_auc4)\n",
    "plt.plot(fpr5, tpr5, 'r', label = 'Trac eng 20 AUC = %0.2f' % roc_auc5)\n",
    "plt.plot(fpr6, tpr6, 'y', label = 'Trac hin 20 AUC = %0.2f' % roc_auc6)\n",
    "\n",
    "plt.title('Redata:image/png;base64,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ceiver Operating Characteristic')\n",
    "plt.legend(loc = 'lower right')\n",
    "plt.plot([0, 1], [0, 1],'r--')\n",
    "plt.xlim([0, 1])\n",
    "plt.ylim([0, 1])\n",
    "plt.ylabel('True Positive Rate')\n",
    "plt.xlabel('False Positive Rate')\n",
    "\n",
    "plt.show()"
   ]
  },
  {
   "cell_type": "code",
   "execution_count": null,
   "metadata": {},
   "outputs": [],
   "source": []
  }
 ],
 "metadata": {
  "accelerator": "GPU",
  "colab": {
   "collapsed_sections": [
    "gaXaXHOM3vzu",
    "FVRPjRim3zJC"
   ],
   "name": "Embeddings for Tweets",
   "provenance": []
  },
  "kernelspec": {
   "display_name": "Python 3",
   "language": "python",
   "name": "python3"
  },
  "language_info": {
   "codemirror_mode": {
    "name": "ipython",
    "version": 3
   },
   "file_extension": ".py",
   "mimetype": "text/x-python",
   "name": "python",
   "nbconvert_exporter": "python",
   "pygments_lexer": "ipython3",
   "version": "3.8.3"
  },
  "widgets": {
   "application/vnd.jupyter.widget-state+json": {
    "0b57a84054c44219bc565db8e01b70df": {
     "model_module": "@jupyter-widgets/controls",
     "model_name": "HBoxModel",
     "state": {
      "_dom_classes": [],
      "_model_module": "@jupyter-widgets/controls",
      "_model_module_version": "1.5.0",
      "_model_name": "HBoxModel",
      "_view_count": null,
      "_view_module": "@jupyter-widgets/controls",
      "_view_module_version": "1.5.0",
      "_view_name": "HBoxView",
      "box_style": "",
      "children": [
       "IPY_MODEL_25298f92d64143b49e5d60e9aa55edf9",
       "IPY_MODEL_4ec7ffe047384b859a292cca91c4ddab"
      ],
      "layout": "IPY_MODEL_ab781eeebd8e41f2a881b675ddd7c528"
     }
    },
    "0f3d3e47d2184bad827a168147302787": {
     "model_module": "@jupyter-widgets/base",
     "model_name": "LayoutModel",
     "state": {
      "_model_module": "@jupyter-widgets/base",
      "_model_module_version": "1.2.0",
      "_model_name": "LayoutModel",
      "_view_count": null,
      "_view_module": "@jupyter-widgets/base",
      "_view_module_version": "1.2.0",
      "_view_name": "LayoutView",
      "align_content": null,
      "align_items": null,
      "align_self": null,
      "border": null,
      "bottom": null,
      "display": null,
      "flex": null,
      "flex_flow": null,
      "grid_area": null,
      "grid_auto_columns": null,
      "grid_auto_flow": null,
      "grid_auto_rows": null,
      "grid_column": null,
      "grid_gap": null,
      "grid_row": null,
      "grid_template_areas": null,
      "grid_template_columns": null,
      "grid_template_rows": null,
      "height": null,
      "justify_content": null,
      "justify_items": null,
      "left": null,
      "margin": null,
      "max_height": null,
      "max_width": null,
      "min_height": null,
      "min_width": null,
      "object_fit": null,
      "object_position": null,
      "order": null,
      "overflow": null,
      "overflow_x": null,
      "overflow_y": null,
      "padding": null,
      "right": null,
      "top": null,
      "visibility": null,
      "width": null
     }
    },
    "15b97b4f5f974991b90062b729740c2d": {
     "model_module": "@jupyter-widgets/base",
     "model_name": "LayoutModel",
     "state": {
      "_model_module": "@jupyter-widgets/base",
      "_model_module_version": "1.2.0",
      "_model_name": "LayoutModel",
      "_view_count": null,
      "_view_module": "@jupyter-widgets/base",
      "_view_module_version": "1.2.0",
      "_view_name": "LayoutView",
      "align_content": null,
      "align_items": null,
      "align_self": null,
      "border": null,
      "bottom": null,
      "display": null,
      "flex": null,
      "flex_flow": null,
      "grid_area": null,
      "grid_auto_columns": null,
      "grid_auto_flow": null,
      "grid_auto_rows": null,
      "grid_column": null,
      "grid_gap": null,
      "grid_row": null,
      "grid_template_areas": null,
      "grid_template_columns": null,
      "grid_template_rows": null,
      "height": null,
      "justify_content": null,
      "justify_items": null,
      "left": null,
      "margin": null,
      "max_height": null,
      "max_width": null,
      "min_height": null,
      "min_width": null,
      "object_fit": null,
      "object_position": null,
      "order": null,
      "overflow": null,
      "overflow_x": null,
      "overflow_y": null,
      "padding": null,
      "right": null,
      "top": null,
      "visibility": null,
      "width": null
     }
    },
    "1f274aa3f30a491389956e880b00ac19": {
     "model_module": "@jupyter-widgets/controls",
     "model_name": "IntProgressModel",
     "state": {
      "_dom_classes": [],
      "_model_module": "@jupyter-widgets/controls",
      "_model_module_version": "1.5.0",
      "_model_name": "IntProgressModel",
      "_view_count": null,
      "_view_module": "@jupyter-widgets/controls",
      "_view_module_version": "1.5.0",
      "_view_name": "ProgressView",
      "bar_style": "success",
      "description": "Downloading",
      "description_tooltip": null,
      "layout": "IPY_MODEL_683bfe4d89414060afafd5332194c7fd",
      "max": 1961828,
      "min": 0,
      "orientation": "horizontal",
      "style": "IPY_MODEL_7078c59e5dc849c488643b49e3f7be1b",
      "value": 1961828
     }
    },
    "24d97e903140465ea59996f5c676f030": {
     "model_module": "@jupyter-widgets/base",
     "model_name": "LayoutModel",
     "state": {
      "_model_module": "@jupyter-widgets/base",
      "_model_module_version": "1.2.0",
      "_model_name": "LayoutModel",
      "_view_count": null,
      "_view_module": "@jupyter-widgets/base",
      "_view_module_version": "1.2.0",
      "_view_name": "LayoutView",
      "align_content": null,
      "align_items": null,
      "align_self": null,
      "border": null,
      "bottom": null,
      "display": null,
      "flex": null,
      "flex_flow": null,
      "grid_area": null,
      "grid_auto_columns": null,
      "grid_auto_flow": null,
      "grid_auto_rows": null,
      "grid_column": null,
      "grid_gap": null,
      "grid_row": null,
      "grid_template_areas": null,
      "grid_template_columns": null,
      "grid_template_rows": null,
      "height": null,
      "justify_content": null,
      "justify_items": null,
      "left": null,
      "margin": null,
      "max_height": null,
      "max_width": null,
      "min_height": null,
      "min_width": null,
      "object_fit": null,
      "object_position": null,
      "order": null,
      "overflow": null,
      "overflow_x": null,
      "overflow_y": null,
      "padding": null,
      "right": null,
      "top": null,
      "visibility": null,
      "width": null
     }
    },
    "25298f92d64143b49e5d60e9aa55edf9": {
     "model_module": "@jupyter-widgets/controls",
     "model_name": "IntProgressModel",
     "state": {
      "_dom_classes": [],
      "_model_module": "@jupyter-widgets/controls",
      "_model_module_version": "1.5.0",
      "_model_name": "IntProgressModel",
      "_view_count": null,
      "_view_module": "@jupyter-widgets/controls",
      "_view_module_version": "1.5.0",
      "_view_name": "ProgressView",
      "bar_style": "success",
      "description": "Downloading",
      "description_tooltip": null,
      "layout": "IPY_MODEL_8de27c13ef4845d0bee8fe3ac0a3b8b1",
      "max": 466,
      "min": 0,
      "orientation": "horizontal",
      "style": "IPY_MODEL_d91f56b121224423ad56432f774e0487",
      "value": 466
     }
    },
    "44dd82b7e59246658b6a99881101e1eb": {
     "model_module": "@jupyter-widgets/controls",
     "model_name": "ProgressStyleModel",
     "state": {
      "_model_module": "@jupyter-widgets/controls",
      "_model_module_version": "1.5.0",
      "_model_name": "ProgressStyleModel",
      "_view_count": null,
      "_view_module": "@jupyter-widgets/base",
      "_view_module_version": "1.2.0",
      "_view_name": "StyleView",
      "bar_color": null,
      "description_width": "initial"
     }
    },
    "4ec7ffe047384b859a292cca91c4ddab": {
     "model_module": "@jupyter-widgets/controls",
     "model_name": "HTMLModel",
     "state": {
      "_dom_classes": [],
      "_model_module": "@jupyter-widgets/controls",
      "_model_module_version": "1.5.0",
      "_model_name": "HTMLModel",
      "_view_count": null,
      "_view_module": "@jupyter-widgets/controls",
      "_view_module_version": "1.5.0",
      "_view_name": "HTMLView",
      "description": "",
      "description_tooltip": null,
      "layout": "IPY_MODEL_d2b9d018f7654c07b22c6bf3cb1668f0",
      "placeholder": "​",
      "style": "IPY_MODEL_84b364133c80482e8789e72b2446a0b1",
      "value": "100% 466/466 [00:00&lt;00:00, 12.1kB/s]"
     }
    },
    "53ddbb3bd1954557ab3691b318889bb7": {
     "model_module": "@jupyter-widgets/controls",
     "model_name": "ProgressStyleModel",
     "state": {
      "_model_module": "@jupyter-widgets/controls",
      "_model_module_version": "1.5.0",
      "_model_name": "ProgressStyleModel",
      "_view_count": null,
      "_view_module": "@jupyter-widgets/base",
      "_view_module_version": "1.2.0",
      "_view_name": "StyleView",
      "bar_color": null,
      "description_width": "initial"
     }
    },
    "62701aa929164cdea91a7f40a3b489a9": {
     "model_module": "@jupyter-widgets/controls",
     "model_name": "IntProgressModel",
     "state": {
      "_dom_classes": [],
      "_model_module": "@jupyter-widgets/controls",
      "_model_module_version": "1.5.0",
      "_model_name": "IntProgressModel",
      "_view_count": null,
      "_view_module": "@jupyter-widgets/controls",
      "_view_module_version": "1.5.0",
      "_view_name": "ProgressView",
      "bar_style": "success",
      "description": "Downloading",
      "description_tooltip": null,
      "layout": "IPY_MODEL_a2327a2d1b01461c9f613519c0dfed9a",
      "max": 29,
      "min": 0,
      "orientation": "horizontal",
      "style": "IPY_MODEL_8d2fca6db8064d128a3faf1c20b4a7e6",
      "value": 29
     }
    },
    "683bfe4d89414060afafd5332194c7fd": {
     "model_module": "@jupyter-widgets/base",
     "model_name": "LayoutModel",
     "state": {
      "_model_module": "@jupyter-widgets/base",
      "_model_module_version": "1.2.0",
      "_model_name": "LayoutModel",
      "_view_count": null,
      "_view_module": "@jupyter-widgets/base",
      "_view_module_version": "1.2.0",
      "_view_name": "LayoutView",
      "align_content": null,
      "align_items": null,
      "align_self": null,
      "border": null,
      "bottom": null,
      "display": null,
      "flex": null,
      "flex_flow": null,
      "grid_area": null,
      "grid_auto_columns": null,
      "grid_auto_flow": null,
      "grid_auto_rows": null,
      "grid_column": null,
      "grid_gap": null,
      "grid_row": null,
      "grid_template_areas": null,
      "grid_template_columns": null,
      "grid_template_rows": null,
      "height": null,
      "justify_content": null,
      "justify_items": null,
      "left": null,
      "margin": null,
      "max_height": null,
      "max_width": null,
      "min_height": null,
      "min_width": null,
      "object_fit": null,
      "object_position": null,
      "order": null,
      "overflow": null,
      "overflow_x": null,
      "overflow_y": null,
      "padding": null,
      "right": null,
      "top": null,
      "visibility": null,
      "width": null
     }
    },
    "6e18be0f78c24280a034cbd50bf2bdac": {
     "model_module": "@jupyter-widgets/base",
     "model_name": "LayoutModel",
     "state": {
      "_model_module": "@jupyter-widgets/base",
      "_model_module_version": "1.2.0",
      "_model_name": "LayoutModel",
      "_view_count": null,
      "_view_module": "@jupyter-widgets/base",
      "_view_module_version": "1.2.0",
      "_view_name": "LayoutView",
      "align_content": null,
      "align_items": null,
      "align_self": null,
      "border": null,
      "bottom": null,
      "display": null,
      "flex": null,
      "flex_flow": null,
      "grid_area": null,
      "grid_auto_columns": null,
      "grid_auto_flow": null,
      "grid_auto_rows": null,
      "grid_column": null,
      "grid_gap": null,
      "grid_row": null,
      "grid_template_areas": null,
      "grid_template_columns": null,
      "grid_template_rows": null,
      "height": null,
      "justify_content": null,
      "justify_items": null,
      "left": null,
      "margin": null,
      "max_height": null,
      "max_width": null,
      "min_height": null,
      "min_width": null,
      "object_fit": null,
      "object_position": null,
      "order": null,
      "overflow": null,
      "overflow_x": null,
      "overflow_y": null,
      "padding": null,
      "right": null,
      "top": null,
      "visibility": null,
      "width": null
     }
    },
    "7078c59e5dc849c488643b49e3f7be1b": {
     "model_module": "@jupyter-widgets/controls",
     "model_name": "ProgressStyleModel",
     "state": {
      "_model_module": "@jupyter-widgets/controls",
      "_model_module_version": "1.5.0",
      "_model_name": "ProgressStyleModel",
      "_view_count": null,
      "_view_module": "@jupyter-widgets/base",
      "_view_module_version": "1.2.0",
      "_view_name": "StyleView",
      "bar_color": null,
      "description_width": "initial"
     }
    },
    "752ed22fcd744bc1965e87f30ba3445f": {
     "model_module": "@jupyter-widgets/base",
     "model_name": "LayoutModel",
     "state": {
      "_model_module": "@jupyter-widgets/base",
      "_model_module_version": "1.2.0",
      "_model_name": "LayoutModel",
      "_view_count": null,
      "_view_module": "@jupyter-widgets/base",
      "_view_module_version": "1.2.0",
      "_view_name": "LayoutView",
      "align_content": null,
      "align_items": null,
      "align_self": null,
      "border": null,
      "bottom": null,
      "display": null,
      "flex": null,
      "flex_flow": null,
      "grid_area": null,
      "grid_auto_columns": null,
      "grid_auto_flow": null,
      "grid_auto_rows": null,
      "grid_column": null,
      "grid_gap": null,
      "grid_row": null,
      "grid_template_areas": null,
      "grid_template_columns": null,
      "grid_template_rows": null,
      "height": null,
      "justify_content": null,
      "justify_items": null,
      "left": null,
      "margin": null,
      "max_height": null,
      "max_width": null,
      "min_height": null,
      "min_width": null,
      "object_fit": null,
      "object_position": null,
      "order": null,
      "overflow": null,
      "overflow_x": null,
      "overflow_y": null,
      "padding": null,
      "right": null,
      "top": null,
      "visibility": null,
      "width": null
     }
    },
    "84b364133c80482e8789e72b2446a0b1": {
     "model_module": "@jupyter-widgets/controls",
     "model_name": "DescriptionStyleModel",
     "state": {
      "_model_module": "@jupyter-widgets/controls",
      "_model_module_version": "1.5.0",
      "_model_name": "DescriptionStyleModel",
      "_view_count": null,
      "_view_module": "@jupyter-widgets/base",
      "_view_module_version": "1.2.0",
      "_view_name": "StyleView",
      "description_width": ""
     }
    },
    "863bc5e512fc4909a4b7e5c332f4e945": {
     "model_module": "@jupyter-widgets/controls",
     "model_name": "HTMLModel",
     "state": {
      "_dom_classes": [],
      "_model_module": "@jupyter-widgets/controls",
      "_model_module_version": "1.5.0",
      "_model_name": "HTMLModel",
      "_view_count": null,
      "_view_module": "@jupyter-widgets/controls",
      "_view_module_version": "1.5.0",
      "_view_name": "HTMLView",
      "description": "",
      "description_tooltip": null,
      "layout": "IPY_MODEL_15b97b4f5f974991b90062b729740c2d",
      "placeholder": "​",
      "style": "IPY_MODEL_cfdc834e0aa3475ba103c5648b331d6f",
      "value": "100% 29.0/29.0 [00:00&lt;00:00, 623B/s]"
     }
    },
    "8789b1e944b4415781c0e4c803bdf97b": {
     "model_module": "@jupyter-widgets/base",
     "model_name": "LayoutModel",
     "state": {
      "_model_module": "@jupyter-widgets/base",
      "_model_module_version": "1.2.0",
      "_model_name": "LayoutModel",
      "_view_count": null,
      "_view_module": "@jupyter-widgets/base",
      "_view_module_version": "1.2.0",
      "_view_name": "LayoutView",
      "align_content": null,
      "align_items": null,
      "align_self": null,
      "border": null,
      "bottom": null,
      "display": null,
      "flex": null,
      "flex_flow": null,
      "grid_area": null,
      "grid_auto_columns": null,
      "grid_auto_flow": null,
      "grid_auto_rows": null,
      "grid_column": null,
      "grid_gap": null,
      "grid_row": null,
      "grid_template_areas": null,
      "grid_template_columns": null,
      "grid_template_rows": null,
      "height": null,
      "justify_content": null,
      "justify_items": null,
      "left": null,
      "margin": null,
      "max_height": null,
      "max_width": null,
      "min_height": null,
      "min_width": null,
      "object_fit": null,
      "object_position": null,
      "order": null,
      "overflow": null,
      "overflow_x": null,
      "overflow_y": null,
      "padding": null,
      "right": null,
      "top": null,
      "visibility": null,
      "width": null
     }
    },
    "8d2fca6db8064d128a3faf1c20b4a7e6": {
     "model_module": "@jupyter-widgets/controls",
     "model_name": "ProgressStyleModel",
     "state": {
      "_model_module": "@jupyter-widgets/controls",
      "_model_module_version": "1.5.0",
      "_model_name": "ProgressStyleModel",
      "_view_count": null,
      "_view_module": "@jupyter-widgets/base",
      "_view_module_version": "1.2.0",
      "_view_name": "StyleView",
      "bar_color": null,
      "description_width": "initial"
     }
    },
    "8de27c13ef4845d0bee8fe3ac0a3b8b1": {
     "model_module": "@jupyter-widgets/base",
     "model_name": "LayoutModel",
     "state": {
      "_model_module": "@jupyter-widgets/base",
      "_model_module_version": "1.2.0",
      "_model_name": "LayoutModel",
      "_view_count": null,
      "_view_module": "@jupyter-widgets/base",
      "_view_module_version": "1.2.0",
      "_view_name": "LayoutView",
      "align_content": null,
      "align_items": null,
      "align_self": null,
      "border": null,
      "bottom": null,
      "display": null,
      "flex": null,
      "flex_flow": null,
      "grid_area": null,
      "grid_auto_columns": null,
      "grid_auto_flow": null,
      "grid_auto_rows": null,
      "grid_column": null,
      "grid_gap": null,
      "grid_row": null,
      "grid_template_areas": null,
      "grid_template_columns": null,
      "grid_template_rows": null,
      "height": null,
      "justify_content": null,
      "justify_items": null,
      "left": null,
      "margin": null,
      "max_height": null,
      "max_width": null,
      "min_height": null,
      "min_width": null,
      "object_fit": null,
      "object_position": null,
      "order": null,
      "overflow": null,
      "overflow_x": null,
      "overflow_y": null,
      "padding": null,
      "right": null,
      "top": null,
      "visibility": null,
      "width": null
     }
    },
    "9cd1f99cc7314cd6a2ed09ee642a19e1": {
     "model_module": "@jupyter-widgets/base",
     "model_name": "LayoutModel",
     "state": {
      "_model_module": "@jupyter-widgets/base",
      "_model_module_version": "1.2.0",
      "_model_name": "LayoutModel",
      "_view_count": null,
      "_view_module": "@jupyter-widgets/base",
      "_view_module_version": "1.2.0",
      "_view_name": "LayoutView",
      "align_content": null,
      "align_items": null,
      "align_self": null,
      "border": null,
      "bottom": null,
      "display": null,
      "flex": null,
      "flex_flow": null,
      "grid_area": null,
      "grid_auto_columns": null,
      "grid_auto_flow": null,
      "grid_auto_rows": null,
      "grid_column": null,
      "grid_gap": null,
      "grid_row": null,
      "grid_template_areas": null,
      "grid_template_columns": null,
      "grid_template_rows": null,
      "height": null,
      "justify_content": null,
      "justify_items": null,
      "left": null,
      "margin": null,
      "max_height": null,
      "max_width": null,
      "min_height": null,
      "min_width": null,
      "object_fit": null,
      "object_position": null,
      "order": null,
      "overflow": null,
      "overflow_x": null,
      "overflow_y": null,
      "padding": null,
      "right": null,
      "top": null,
      "visibility": null,
      "width": null
     }
    },
    "9d055bb30a834af896caa3c3c71c176f": {
     "model_module": "@jupyter-widgets/controls",
     "model_name": "HTMLModel",
     "state": {
      "_dom_classes": [],
      "_model_module": "@jupyter-widgets/controls",
      "_model_module_version": "1.5.0",
      "_model_name": "HTMLModel",
      "_view_count": null,
      "_view_module": "@jupyter-widgets/controls",
      "_view_module_version": "1.5.0",
      "_view_name": "HTMLView",
      "description": "",
      "description_tooltip": null,
      "layout": "IPY_MODEL_d6fae3f497db4eaf8c9bec7d68ad10d7",
      "placeholder": "​",
      "style": "IPY_MODEL_da20f0d5347b442796fabff3fb68701b",
      "value": "100% 996k/996k [00:00&lt;00:00, 3.85MB/s]"
     }
    },
    "a2327a2d1b01461c9f613519c0dfed9a": {
     "model_module": "@jupyter-widgets/base",
     "model_name": "LayoutModel",
     "state": {
      "_model_module": "@jupyter-widgets/base",
      "_model_module_version": "1.2.0",
      "_model_name": "LayoutModel",
      "_view_count": null,
      "_view_module": "@jupyter-widgets/base",
      "_view_module_version": "1.2.0",
      "_view_name": "LayoutView",
      "align_content": null,
      "align_items": null,
      "align_self": null,
      "border": null,
      "bottom": null,
      "display": null,
      "flex": null,
      "flex_flow": null,
      "grid_area": null,
      "grid_auto_columns": null,
      "grid_auto_flow": null,
      "grid_auto_rows": null,
      "grid_column": null,
      "grid_gap": null,
      "grid_row": null,
      "grid_template_areas": null,
      "grid_template_columns": null,
      "grid_template_rows": null,
      "height": null,
      "justify_content": null,
      "justify_items": null,
      "left": null,
      "margin": null,
      "max_height": null,
      "max_width": null,
      "min_height": null,
      "min_width": null,
      "object_fit": null,
      "object_position": null,
      "order": null,
      "overflow": null,
      "overflow_x": null,
      "overflow_y": null,
      "padding": null,
      "right": null,
      "top": null,
      "visibility": null,
      "width": null
     }
    },
    "a72e2b697ff24c31a56835baa60bc305": {
     "model_module": "@jupyter-widgets/controls",
     "model_name": "IntProgressModel",
     "state": {
      "_dom_classes": [],
      "_model_module": "@jupyter-widgets/controls",
      "_model_module_version": "1.5.0",
      "_model_name": "IntProgressModel",
      "_view_count": null,
      "_view_module": "@jupyter-widgets/controls",
      "_view_module_version": "1.5.0",
      "_view_name": "ProgressView",
      "bar_style": "success",
      "description": "Downloading",
      "description_tooltip": null,
      "layout": "IPY_MODEL_24d97e903140465ea59996f5c676f030",
      "max": 910749124,
      "min": 0,
      "orientation": "horizontal",
      "style": "IPY_MODEL_53ddbb3bd1954557ab3691b318889bb7",
      "value": 910749124
     }
    },
    "ab781eeebd8e41f2a881b675ddd7c528": {
     "model_module": "@jupyter-widgets/base",
     "model_name": "LayoutModel",
     "state": {
      "_model_module": "@jupyter-widgets/base",
      "_model_module_version": "1.2.0",
      "_model_name": "LayoutModel",
      "_view_count": null,
      "_view_module": "@jupyter-widgets/base",
      "_view_module_version": "1.2.0",
      "_view_name": "LayoutView",
      "align_content": null,
      "align_items": null,
      "align_self": null,
      "border": null,
      "bottom": null,
      "display": null,
      "flex": null,
      "flex_flow": null,
      "grid_area": null,
      "grid_auto_columns": null,
      "grid_auto_flow": null,
      "grid_auto_rows": null,
      "grid_column": null,
      "grid_gap": null,
      "grid_row": null,
      "grid_template_areas": null,
      "grid_template_columns": null,
      "grid_template_rows": null,
      "height": null,
      "justify_content": null,
      "justify_items": null,
      "left": null,
      "margin": null,
      "max_height": null,
      "max_width": null,
      "min_height": null,
      "min_width": null,
      "object_fit": null,
      "object_position": null,
      "order": null,
      "overflow": null,
      "overflow_x": null,
      "overflow_y": null,
      "padding": null,
      "right": null,
      "top": null,
      "visibility": null,
      "width": null
     }
    },
    "b1ecc93128db487ba8adcccb98f8499a": {
     "model_module": "@jupyter-widgets/controls",
     "model_name": "HTMLModel",
     "state": {
      "_dom_classes": [],
      "_model_module": "@jupyter-widgets/controls",
      "_model_module_version": "1.5.0",
      "_model_name": "HTMLModel",
      "_view_count": null,
      "_view_module": "@jupyter-widgets/controls",
      "_view_module_version": "1.5.0",
      "_view_name": "HTMLView",
      "description": "",
      "description_tooltip": null,
      "layout": "IPY_MODEL_6e18be0f78c24280a034cbd50bf2bdac",
      "placeholder": "​",
      "style": "IPY_MODEL_dce2217b639e4ec09b260b7ae936fe2f",
      "value": "100% 911M/911M [00:27&lt;00:00, 32.7MB/s]"
     }
    },
    "b236d578b24f45b18e6d754ad030b7d1": {
     "model_module": "@jupyter-widgets/controls",
     "model_name": "HBoxModel",
     "state": {
      "_dom_classes": [],
      "_model_module": "@jupyter-widgets/controls",
      "_model_module_version": "1.5.0",
      "_model_name": "HBoxModel",
      "_view_count": null,
      "_view_module": "@jupyter-widgets/controls",
      "_view_module_version": "1.5.0",
      "_view_name": "HBoxView",
      "box_style": "",
      "children": [
       "IPY_MODEL_c070681d9db448049d9dfcd465bfdbb9",
       "IPY_MODEL_9d055bb30a834af896caa3c3c71c176f"
      ],
      "layout": "IPY_MODEL_752ed22fcd744bc1965e87f30ba3445f"
     }
    },
    "b2b340eaa87c4e41a2962439e3cbd94c": {
     "model_module": "@jupyter-widgets/controls",
     "model_name": "HBoxModel",
     "state": {
      "_dom_classes": [],
      "_model_module": "@jupyter-widgets/controls",
      "_model_module_version": "1.5.0",
      "_model_name": "HBoxModel",
      "_view_count": null,
      "_view_module": "@jupyter-widgets/controls",
      "_view_module_version": "1.5.0",
      "_view_name": "HBoxView",
      "box_style": "",
      "children": [
       "IPY_MODEL_62701aa929164cdea91a7f40a3b489a9",
       "IPY_MODEL_863bc5e512fc4909a4b7e5c332f4e945"
      ],
      "layout": "IPY_MODEL_9cd1f99cc7314cd6a2ed09ee642a19e1"
     }
    },
    "c070681d9db448049d9dfcd465bfdbb9": {
     "model_module": "@jupyter-widgets/controls",
     "model_name": "IntProgressModel",
     "state": {
      "_dom_classes": [],
      "_model_module": "@jupyter-widgets/controls",
      "_model_module_version": "1.5.0",
      "_model_name": "IntProgressModel",
      "_view_count": null,
      "_view_module": "@jupyter-widgets/controls",
      "_view_module_version": "1.5.0",
      "_view_name": "ProgressView",
      "bar_style": "success",
      "description": "Downloading",
      "description_tooltip": null,
      "layout": "IPY_MODEL_de0a54660fd74b22925a4a1bd2bf9425",
      "max": 995526,
      "min": 0,
      "orientation": "horizontal",
      "style": "IPY_MODEL_44dd82b7e59246658b6a99881101e1eb",
      "value": 995526
     }
    },
    "c8a3f78b7b194c0e8b6b74cb4880fd66": {
     "model_module": "@jupyter-widgets/controls",
     "model_name": "HBoxModel",
     "state": {
      "_dom_classes": [],
      "_model_module": "@jupyter-widgets/controls",
      "_model_module_version": "1.5.0",
      "_model_name": "HBoxModel",
      "_view_count": null,
      "_view_module": "@jupyter-widgets/controls",
      "_view_module_version": "1.5.0",
      "_view_name": "HBoxView",
      "box_style": "",
      "children": [
       "IPY_MODEL_1f274aa3f30a491389956e880b00ac19",
       "IPY_MODEL_d6cd1da9258f4e91beade867b1ec4b77"
      ],
      "layout": "IPY_MODEL_0f3d3e47d2184bad827a168147302787"
     }
    },
    "cba48050fd584b96beb288dacdd01284": {
     "model_module": "@jupyter-widgets/base",
     "model_name": "LayoutModel",
     "state": {
      "_model_module": "@jupyter-widgets/base",
      "_model_module_version": "1.2.0",
      "_model_name": "LayoutModel",
      "_view_count": null,
      "_view_module": "@jupyter-widgets/base",
      "_view_module_version": "1.2.0",
      "_view_name": "LayoutView",
      "align_content": null,
      "align_items": null,
      "align_self": null,
      "border": null,
      "bottom": null,
      "display": null,
      "flex": null,
      "flex_flow": null,
      "grid_area": null,
      "grid_auto_columns": null,
      "grid_auto_flow": null,
      "grid_auto_rows": null,
      "grid_column": null,
      "grid_gap": null,
      "grid_row": null,
      "grid_template_areas": null,
      "grid_template_columns": null,
      "grid_template_rows": null,
      "height": null,
      "justify_content": null,
      "justify_items": null,
      "left": null,
      "margin": null,
      "max_height": null,
      "max_width": null,
      "min_height": null,
      "min_width": null,
      "object_fit": null,
      "object_position": null,
      "order": null,
      "overflow": null,
      "overflow_x": null,
      "overflow_y": null,
      "padding": null,
      "right": null,
      "top": null,
      "visibility": null,
      "width": null
     }
    },
    "cc1717257b0144d89b8f645b602324fa": {
     "model_module": "@jupyter-widgets/controls",
     "model_name": "DescriptionStyleModel",
     "state": {
      "_model_module": "@jupyter-widgets/controls",
      "_model_module_version": "1.5.0",
      "_model_name": "DescriptionStyleModel",
      "_view_count": null,
      "_view_module": "@jupyter-widgets/base",
      "_view_module_version": "1.2.0",
      "_view_name": "StyleView",
      "description_width": ""
     }
    },
    "cfdc834e0aa3475ba103c5648b331d6f": {
     "model_module": "@jupyter-widgets/controls",
     "model_name": "DescriptionStyleModel",
     "state": {
      "_model_module": "@jupyter-widgets/controls",
      "_model_module_version": "1.5.0",
      "_model_name": "DescriptionStyleModel",
      "_view_count": null,
      "_view_module": "@jupyter-widgets/base",
      "_view_module_version": "1.2.0",
      "_view_name": "StyleView",
      "description_width": ""
     }
    },
    "d2b9d018f7654c07b22c6bf3cb1668f0": {
     "model_module": "@jupyter-widgets/base",
     "model_name": "LayoutModel",
     "state": {
      "_model_module": "@jupyter-widgets/base",
      "_model_module_version": "1.2.0",
      "_model_name": "LayoutModel",
      "_view_count": null,
      "_view_module": "@jupyter-widgets/base",
      "_view_module_version": "1.2.0",
      "_view_name": "LayoutView",
      "align_content": null,
      "align_items": null,
      "align_self": null,
      "border": null,
      "bottom": null,
      "display": null,
      "flex": null,
      "flex_flow": null,
      "grid_area": null,
      "grid_auto_columns": null,
      "grid_auto_flow": null,
      "grid_auto_rows": null,
      "grid_column": null,
      "grid_gap": null,
      "grid_row": null,
      "grid_template_areas": null,
      "grid_template_columns": null,
      "grid_template_rows": null,
      "height": null,
      "justify_content": null,
      "justify_items": null,
      "left": null,
      "margin": null,
      "max_height": null,
      "max_width": null,
      "min_height": null,
      "min_width": null,
      "object_fit": null,
      "object_position": null,
      "order": null,
      "overflow": null,
      "overflow_x": null,
      "overflow_y": null,
      "padding": null,
      "right": null,
      "top": null,
      "visibility": null,
      "width": null
     }
    },
    "d6cd1da9258f4e91beade867b1ec4b77": {
     "model_module": "@jupyter-widgets/controls",
     "model_name": "HTMLModel",
     "state": {
      "_dom_classes": [],
      "_model_module": "@jupyter-widgets/controls",
      "_model_module_version": "1.5.0",
      "_model_name": "HTMLModel",
      "_view_count": null,
      "_view_module": "@jupyter-widgets/controls",
      "_view_module_version": "1.5.0",
      "_view_name": "HTMLView",
      "description": "",
      "description_tooltip": null,
      "layout": "IPY_MODEL_8789b1e944b4415781c0e4c803bdf97b",
      "placeholder": "​",
      "style": "IPY_MODEL_cc1717257b0144d89b8f645b602324fa",
      "value": "100% 1.96M/1.96M [00:00&lt;00:00, 5.46MB/s]"
     }
    },
    "d6fae3f497db4eaf8c9bec7d68ad10d7": {
     "model_module": "@jupyter-widgets/base",
     "model_name": "LayoutModel",
     "state": {
      "_model_module": "@jupyter-widgets/base",
      "_model_module_version": "1.2.0",
      "_model_name": "LayoutModel",
      "_view_count": null,
      "_view_module": "@jupyter-widgets/base",
      "_view_module_version": "1.2.0",
      "_view_name": "LayoutView",
      "align_content": null,
      "align_items": null,
      "align_self": null,
      "border": null,
      "bottom": null,
      "display": null,
      "flex": null,
      "flex_flow": null,
      "grid_area": null,
      "grid_auto_columns": null,
      "grid_auto_flow": null,
      "grid_auto_rows": null,
      "grid_column": null,
      "grid_gap": null,
      "grid_row": null,
      "grid_template_areas": null,
      "grid_template_columns": null,
      "grid_template_rows": null,
      "height": null,
      "justify_content": null,
      "justify_items": null,
      "left": null,
      "margin": null,
      "max_height": null,
      "max_width": null,
      "min_height": null,
      "min_width": null,
      "object_fit": null,
      "object_position": null,
      "order": null,
      "overflow": null,
      "overflow_x": null,
      "overflow_y": null,
      "padding": null,
      "right": null,
      "top": null,
      "visibility": null,
      "width": null
     }
    },
    "d91f56b121224423ad56432f774e0487": {
     "model_module": "@jupyter-widgets/controls",
     "model_name": "ProgressStyleModel",
     "state": {
      "_model_module": "@jupyter-widgets/controls",
      "_model_module_version": "1.5.0",
      "_model_name": "ProgressStyleModel",
      "_view_count": null,
      "_view_module": "@jupyter-widgets/base",
      "_view_module_version": "1.2.0",
      "_view_name": "StyleView",
      "bar_color": null,
      "description_width": "initial"
     }
    },
    "da20f0d5347b442796fabff3fb68701b": {
     "model_module": "@jupyter-widgets/controls",
     "model_name": "DescriptionStyleModel",
     "state": {
      "_model_module": "@jupyter-widgets/controls",
      "_model_module_version": "1.5.0",
      "_model_name": "DescriptionStyleModel",
      "_view_count": null,
      "_view_module": "@jupyter-widgets/base",
      "_view_module_version": "1.2.0",
      "_view_name": "StyleView",
      "description_width": ""
     }
    },
    "dce2217b639e4ec09b260b7ae936fe2f": {
     "model_module": "@jupyter-widgets/controls",
     "model_name": "DescriptionStyleModel",
     "state": {
      "_model_module": "@jupyter-widgets/controls",
      "_model_module_version": "1.5.0",
      "_model_name": "DescriptionStyleModel",
      "_view_count": null,
      "_view_module": "@jupyter-widgets/base",
      "_view_module_version": "1.2.0",
      "_view_name": "StyleView",
      "description_width": ""
     }
    },
    "de0a54660fd74b22925a4a1bd2bf9425": {
     "model_module": "@jupyter-widgets/base",
     "model_name": "LayoutModel",
     "state": {
      "_model_module": "@jupyter-widgets/base",
      "_model_module_version": "1.2.0",
      "_model_name": "LayoutModel",
      "_view_count": null,
      "_view_module": "@jupyter-widgets/base",
      "_view_module_version": "1.2.0",
      "_view_name": "LayoutView",
      "align_content": null,
      "align_items": null,
      "align_self": null,
      "border": null,
      "bottom": null,
      "display": null,
      "flex": null,
      "flex_flow": null,
      "grid_area": null,
      "grid_auto_columns": null,
      "grid_auto_flow": null,
      "grid_auto_rows": null,
      "grid_column": null,
      "grid_gap": null,
      "grid_row": null,
      "grid_template_areas": null,
      "grid_template_columns": null,
      "grid_template_rows": null,
      "height": null,
      "justify_content": null,
      "justify_items": null,
      "left": null,
      "margin": null,
      "max_height": null,
      "max_width": null,
      "min_height": null,
      "min_width": null,
      "object_fit": null,
      "object_position": null,
      "order": null,
      "overflow": null,
      "overflow_x": null,
      "overflow_y": null,
      "padding": null,
      "right": null,
      "top": null,
      "visibility": null,
      "width": null
     }
    },
    "e5b13ab2e4a848c1a9d64e4ee59d39a1": {
     "model_module": "@jupyter-widgets/controls",
     "model_name": "HBoxModel",
     "state": {
      "_dom_classes": [],
      "_model_module": "@jupyter-widgets/controls",
      "_model_module_version": "1.5.0",
      "_model_name": "HBoxModel",
      "_view_count": null,
      "_view_module": "@jupyter-widgets/controls",
      "_view_module_version": "1.5.0",
      "_view_name": "HBoxView",
      "box_style": "",
      "children": [
       "IPY_MODEL_a72e2b697ff24c31a56835baa60bc305",
       "IPY_MODEL_b1ecc93128db487ba8adcccb98f8499a"
      ],
      "layout": "IPY_MODEL_cba48050fd584b96beb288dacdd01284"
     }
    }
   }
  }
 },
 "nbformat": 4,
 "nbformat_minor": 1
}
